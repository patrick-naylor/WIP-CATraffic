{
 "cells": [
  {
   "cell_type": "code",
   "execution_count": 15,
   "id": "0950a011",
   "metadata": {},
   "outputs": [],
   "source": [
    "import pandas as pd\n",
    "import numpy as np\n",
    "from requests import get\n",
    "from pandas import json_normalize\n",
    "import time"
   ]
  },
  {
   "cell_type": "code",
   "execution_count": 12,
   "id": "6af97a5f",
   "metadata": {},
   "outputs": [],
   "source": [
    "hospitals = pd.read_csv('/Users/patricknaylor/desktop/CA_traffic/Data/health_facility_locations.csv', engine = 'python')\n",
    "collision_loc = pd.read_csv('/Users/patricknaylor/desktop/CA_traffic/Data/position_df.csv')\n",
    "kill_res = np.loadtxt('/Users/patricknaylor/desktop/CA_traffic/Data/killed_res.csv', delimiter=',')\n",
    "kill_res_df = pd.DataFrame(data=kill_res, columns=['killed'])"
   ]
  },
  {
   "cell_type": "code",
   "execution_count": 7,
   "id": "57df8756",
   "metadata": {},
   "outputs": [],
   "source": [
    "def get_elevation(lat = None, long = None):\n",
    "    '''\n",
    "        script for returning elevation in m from lat, long\n",
    "    '''\n",
    "    if lat is None or long is None: return None\n",
    "    \n",
    "    query = ('https://api.open-elevation.com/api/v1/lookup'\n",
    "             f'?locations={lat},{long}')\n",
    "    \n",
    "    # Request with a timeout for slow responses\n",
    "    r = get(query, timeout = 20)\n",
    "\n",
    "    # Only get the json response in case of 200 or 201\n",
    "    if r.status_code == 200 or r.status_code == 201:\n",
    "        elevation = json_normalize(r.json(), 'results')['elevation'].values[0]\n",
    "    else: \n",
    "        elevation = None\n",
    "    return elevation"
   ]
  },
  {
   "cell_type": "code",
   "execution_count": 23,
   "id": "9b0b7703",
   "metadata": {},
   "outputs": [
    {
     "name": "stdout",
     "output_type": "stream",
     "text": [
      "126.58619470798294Seconds\n",
      "[374, 374, 331, 372, 328, 338, 337, 333, 369, 339, 311, 322, 345, 418, 219, 74, 141, 372, 106, 385, 388, 318, 360, 345, 347, 372, 307, 339, 444, 316, 437, 334, 359, 369, 363, 351, 318, 306, 434, 382, 440, 362, 328, 332, 439, 331, 338, 359, 373, 360, 374, 331, 31, 31, 44, 24, 68, 38, 320, 8, 0, 25, 31, 8, 18, 10, 16, 25, 7, 8, 14, 31, 46, 5, 29, 42, 17, 25, 9, 29, 12, 11, 23, 21, 21, 37, 6, 27, 26, 31, 25, 34, 38, 22, 27, 4, 38, 19, 479, 14]\n"
     ]
    }
   ],
   "source": [
    "time1 = time.perf_counter()\n",
    "alts = []\n",
    "for i in range(100):\n",
    "    alts.append(get_elevation(collision_loc['latitude'][i], collision_loc['longitude'][i]))\n",
    "    \n",
    "time2 = time.perf_counter()\n",
    "print(str(time2 - time1) + \"Seconds\")\n",
    "print(alts)"
   ]
  },
  {
   "cell_type": "code",
   "execution_count": 25,
   "id": "e20eac93",
   "metadata": {},
   "outputs": [
    {
     "data": {
      "text/plain": [
       "0.401402190220646"
      ]
     },
     "execution_count": 25,
     "metadata": {},
     "output_type": "execute_result"
    }
   ],
   "source": [
    "(((((time2 - time1)/60)/60)/24)/365) * 100000"
   ]
  },
  {
   "cell_type": "code",
   "execution_count": null,
   "id": "f639ee2a",
   "metadata": {},
   "outputs": [],
   "source": [
    "collision_loc['altitude'] = collision_loc.apply(lambda x: get_elevation(x['latitude'], x['longitude']),axis=1)"
   ]
  },
  {
   "cell_type": "code",
   "execution_count": 18,
   "id": "15f9309f",
   "metadata": {},
   "outputs": [
    {
     "name": "stdout",
     "output_type": "stream",
     "text": [
      "         Unnamed: 0  latitude  longitude\n",
      "0                 0  34.14618 -117.29409\n",
      "1                 1  34.14618 -117.29409\n",
      "2                 2  34.11860 -117.27870\n",
      "3                 3  34.13584 -117.24366\n",
      "4                 4  34.11574 -117.26098\n",
      "...             ...       ...        ...\n",
      "2693990     2693990  38.81863 -121.26125\n",
      "2693991     2693991  38.79530 -121.26479\n",
      "2693992     2693992  34.10416 -117.28154\n",
      "2693993     2693993  34.07961 -117.29416\n",
      "2693994     2693994  34.10834 -117.28266\n",
      "\n",
      "[2693995 rows x 3 columns]\n"
     ]
    }
   ],
   "source": [
    "print(collision_loc)"
   ]
  },
  {
   "cell_type": "code",
   "execution_count": null,
   "id": "c82d02ed",
   "metadata": {},
   "outputs": [],
   "source": []
  }
 ],
 "metadata": {
  "kernelspec": {
   "display_name": "Python 3 (ipykernel)",
   "language": "python",
   "name": "python3"
  },
  "language_info": {
   "codemirror_mode": {
    "name": "ipython",
    "version": 3
   },
   "file_extension": ".py",
   "mimetype": "text/x-python",
   "name": "python",
   "nbconvert_exporter": "python",
   "pygments_lexer": "ipython3",
   "version": "3.10.7"
  }
 },
 "nbformat": 4,
 "nbformat_minor": 5
}

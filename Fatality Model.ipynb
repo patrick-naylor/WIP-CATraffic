{
 "cells": [
  {
   "cell_type": "code",
   "execution_count": 124,
   "id": "0950a011",
   "metadata": {},
   "outputs": [],
   "source": [
    "import pandas as pd\n",
    "import numpy as np\n",
    "from requests import get\n",
    "from pandas import json_normalize\n",
    "import time\n",
    "from sklearn.linear_model import SGDRegressor\n",
    "from sklearn.model_selection import train_test_split\n",
    "from sklearn.metrics import r2_score\n",
    "from sklearn.neighbors import KNeighborsClassifier\n",
    "from sklearn.feature_selection import SequentialFeatureSelector\n",
    "from sklearn.linear_model import SGDClassifier\n",
    "from sklearn.metrics import classification_report\n",
    "from sklearn.utils import resample"
   ]
  },
  {
   "cell_type": "code",
   "execution_count": 186,
   "id": "ca991a33",
   "metadata": {},
   "outputs": [],
   "source": [
    "modeling_data = pd.read_csv('/Users/patricknaylor/Desktop/CA_traffic/Data/selected_columns.csv')"
   ]
  },
  {
   "cell_type": "code",
   "execution_count": 187,
   "id": "c82d02ed",
   "metadata": {},
   "outputs": [
    {
     "name": "stdout",
     "output_type": "stream",
     "text": [
      "latitude                           281296\n",
      "longitude                          315729\n",
      "statewide_vehicle_type_at_fault        15\n",
      "alcohol_involved                        2\n",
      "truck_collision                         2\n",
      "motorcycle_collision                    2\n",
      "bicycle_collision                       2\n",
      "pedestrian_collision                    2\n",
      "lighting                                5\n",
      "road_surface                            5\n",
      "hit_and_run                             3\n",
      "party_count                            14\n",
      "injured_victims                        27\n",
      "killed_victims                          7\n",
      "location_type                           3\n",
      "county_location                        58\n",
      "population                              8\n",
      "county_location_population             58\n",
      "dtype: int64\n"
     ]
    }
   ],
   "source": [
    "print(modeling_data.nunique())"
   ]
  },
  {
   "cell_type": "code",
   "execution_count": 188,
   "id": "f7b39caa",
   "metadata": {},
   "outputs": [],
   "source": [
    "def absolute_maximum_norm(column):\n",
    "    return column / column.abs().max()\n",
    "\n",
    "norm_columns = ['latitude', 'longitude', 'county_location_population']\n",
    "\n",
    "for col in norm_columns:\n",
    "    modeling_data[col] = absolute_maximum_norm(modeling_data[col])\n"
   ]
  },
  {
   "cell_type": "code",
   "execution_count": 189,
   "id": "1af0166d",
   "metadata": {},
   "outputs": [],
   "source": [
    "modeling_data = pd.get_dummies(modeling_data, columns = ['alcohol_involved', 'statewide_vehicle_type_at_fault', 'truck_collision', 'motorcycle_collision', 'bicycle_collision', 'lighting', 'road_surface', 'hit_and_run', 'location_type',  'population', 'county_location'])\n"
   ]
  },
  {
   "cell_type": "code",
   "execution_count": null,
   "id": "4ddd3e39",
   "metadata": {},
   "outputs": [],
   "source": []
  },
  {
   "cell_type": "code",
   "execution_count": 190,
   "id": "190e47d2",
   "metadata": {},
   "outputs": [],
   "source": [
    "modeling_data['mortality_rate'] = modeling_data['killed_victims']/modeling_data['party_count']\n",
    "modeling_data['injury_rate'] = modeling_data['injured_victims']/modeling_data['party_count']\n",
    "modeling_data['is_injured'] = modeling_data['injured_victims'] != 0\n",
    "modeling_data['is_injured'] = modeling_data['is_injured'].astype(int)"
   ]
  },
  {
   "cell_type": "code",
   "execution_count": 191,
   "id": "48f1ebb7",
   "metadata": {},
   "outputs": [],
   "source": [
    "columns_list = list(modeling_data.columns)\n",
    "removals = ['injured_victims', 'killed_victims',  'mortality_rate', 'injury_rate', 'is_injured', 'latitude', 'longitude']\n",
    "for rem in removals:\n",
    "    columns_list.remove(rem)\n",
    "model_x = np.array(modeling_data[columns_list])\n",
    "model_y = np.array(modeling_data['is_injured'])"
   ]
  },
  {
   "cell_type": "code",
   "execution_count": 192,
   "id": "a28174d0",
   "metadata": {},
   "outputs": [
    {
     "name": "stdout",
     "output_type": "stream",
     "text": [
      "[0.         2.         0.01558083 0.         1.         0.\n",
      " 0.         0.         0.         0.         0.         0.\n",
      " 0.         0.         0.         1.         0.         0.\n",
      " 0.         0.         1.         0.         1.         0.\n",
      " 1.         0.         0.         0.         0.         1.\n",
      " 0.         0.         1.         0.         0.         0.\n",
      " 0.         1.         0.         1.         0.         0.\n",
      " 0.         0.         0.         0.         0.         0.\n",
      " 0.         1.        ]\n"
     ]
    }
   ],
   "source": [
    "print(model_x[0,:])"
   ]
  },
  {
   "cell_type": "code",
   "execution_count": 193,
   "id": "029a7a97",
   "metadata": {},
   "outputs": [],
   "source": [
    "x_oversample, y_oversample = resample(model_x[model_y == 0], model_y[model_y == 0], replace=True, n_samples=model_x[model_y ==1].shape[0])\n",
    "X = np.vstack((model_x[model_y == 1], x_oversample))\n",
    "y = np.hstack((model_y[model_y == 1], y_oversample))"
   ]
  },
  {
   "cell_type": "code",
   "execution_count": 194,
   "id": "a712298f",
   "metadata": {},
   "outputs": [
    {
     "name": "stdout",
     "output_type": "stream",
     "text": [
      "(485180, 50)\n",
      "(485180,)\n"
     ]
    }
   ],
   "source": [
    "print(np.shape(X))\n",
    "print(np.shape(y))"
   ]
  },
  {
   "cell_type": "code",
   "execution_count": 195,
   "id": "73ea2bcb",
   "metadata": {},
   "outputs": [],
   "source": [
    "X_train, X_test, y_train, y_test = train_test_split(X, y, test_size=0.33, random_state=0)"
   ]
  },
  {
   "cell_type": "code",
   "execution_count": 196,
   "id": "eef4cd15",
   "metadata": {},
   "outputs": [
    {
     "name": "stdout",
     "output_type": "stream",
     "text": [
      "0.49960316239579167\n"
     ]
    }
   ],
   "source": [
    "print(np.mean((y_train)))"
   ]
  },
  {
   "cell_type": "code",
   "execution_count": 197,
   "id": "09428c0e",
   "metadata": {},
   "outputs": [],
   "source": [
    "reg = SGDClassifier(loss='log_loss')\n",
    "reg.fit(X_train, y_train)\n",
    "pred_train = reg.predict(X_train)\n",
    "pred_test = reg.predict(X_test)\n"
   ]
  },
  {
   "cell_type": "code",
   "execution_count": 198,
   "id": "ff13bed4",
   "metadata": {},
   "outputs": [
    {
     "name": "stdout",
     "output_type": "stream",
     "text": [
      "              precision    recall  f1-score   support\n",
      "\n",
      "           0       0.63      0.43      0.51    162664\n",
      "           1       0.57      0.75      0.65    162406\n",
      "\n",
      "    accuracy                           0.59    325070\n",
      "   macro avg       0.60      0.59      0.58    325070\n",
      "weighted avg       0.60      0.59      0.58    325070\n",
      "\n",
      "              precision    recall  f1-score   support\n",
      "\n",
      "           0       0.63      0.43      0.51     79926\n",
      "           1       0.57      0.75      0.65     80184\n",
      "\n",
      "    accuracy                           0.59    160110\n",
      "   macro avg       0.60      0.59      0.58    160110\n",
      "weighted avg       0.60      0.59      0.58    160110\n",
      "\n",
      "0.4991943039160577\n"
     ]
    }
   ],
   "source": [
    "print(classification_report(y_train, pred_train))\n",
    "print(classification_report(y_test, pred_test))\n",
    "print(1-np.mean(y_test))"
   ]
  },
  {
   "cell_type": "code",
   "execution_count": null,
   "id": "a8b676ec",
   "metadata": {},
   "outputs": [],
   "source": []
  }
 ],
 "metadata": {
  "kernelspec": {
   "display_name": "Python 3 (ipykernel)",
   "language": "python",
   "name": "python3"
  },
  "language_info": {
   "codemirror_mode": {
    "name": "ipython",
    "version": 3
   },
   "file_extension": ".py",
   "mimetype": "text/x-python",
   "name": "python",
   "nbconvert_exporter": "python",
   "pygments_lexer": "ipython3",
   "version": "3.10.7"
  }
 },
 "nbformat": 4,
 "nbformat_minor": 5
}

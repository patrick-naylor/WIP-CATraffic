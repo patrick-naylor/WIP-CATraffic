{
 "cells": [
  {
   "cell_type": "code",
   "execution_count": 153,
   "id": "0950a011",
   "metadata": {},
   "outputs": [],
   "source": [
    "import pandas as pd\n",
    "import numpy as np\n",
    "from requests import get\n",
    "from pandas import json_normalize\n",
    "import time\n",
    "from sklearn.linear_model import SGDRegressor\n",
    "from sklearn.model_selection import train_test_split\n",
    "from sklearn.metrics import r2_score\n",
    "from sklearn.neighbors import KNeighborsClassifier\n",
    "from sklearn.feature_selection import SequentialFeatureSelector\n",
    "from sklearn.linear_model import SGDClassifier\n",
    "from sklearn.metrics import classification_report\n",
    "from sklearn.utils import resample\n",
    "from sklearn.ensemble import RandomForestClassifier\n",
    "from sklearn.model_selection import GridSearchCV\n",
    "from sklearn.pipeline import Pipeline\n",
    "from sklearn.feature_selection import SelectFromModel\n",
    "from sklearn.svm import LinearSVC\n",
    "from sklearn.metrics import matthews_corrcoef"
   ]
  },
  {
   "cell_type": "code",
   "execution_count": 154,
   "id": "ca991a33",
   "metadata": {},
   "outputs": [],
   "source": [
    "modeling_data = pd.read_csv('/Users/patricknaylor/Desktop/CA_traffic/Data/selected_columns.csv')"
   ]
  },
  {
   "cell_type": "code",
   "execution_count": 155,
   "id": "c82d02ed",
   "metadata": {},
   "outputs": [
    {
     "name": "stdout",
     "output_type": "stream",
     "text": [
      "latitude                           281296\n",
      "longitude                          315729\n",
      "statewide_vehicle_type_at_fault        15\n",
      "alcohol_involved                        2\n",
      "truck_collision                         2\n",
      "motorcycle_collision                    2\n",
      "bicycle_collision                       2\n",
      "pedestrian_collision                    2\n",
      "lighting                                5\n",
      "road_surface                            5\n",
      "hit_and_run                             3\n",
      "party_count                            14\n",
      "injured_victims                        27\n",
      "killed_victims                          7\n",
      "location_type                           3\n",
      "county_location                        58\n",
      "population                              8\n",
      "county_location_population             58\n",
      "dtype: int64\n"
     ]
    }
   ],
   "source": [
    "print(modeling_data.nunique())"
   ]
  },
  {
   "cell_type": "code",
   "execution_count": 156,
   "id": "f7b39caa",
   "metadata": {},
   "outputs": [],
   "source": [
    "def absolute_maximum_norm(column):\n",
    "    return column / column.abs().max()\n",
    "\n",
    "norm_columns = ['latitude', 'longitude', 'county_location_population']\n",
    "\n",
    "for col in norm_columns:\n",
    "    modeling_data[col] = absolute_maximum_norm(modeling_data[col])\n"
   ]
  },
  {
   "cell_type": "code",
   "execution_count": 157,
   "id": "1af0166d",
   "metadata": {},
   "outputs": [],
   "source": [
    "modeling_data = pd.get_dummies(modeling_data, columns = ['alcohol_involved', 'statewide_vehicle_type_at_fault', 'truck_collision', 'motorcycle_collision', 'bicycle_collision', 'lighting',  'population', 'county_location', 'location_type', 'hit_and_run', 'road_surface'])\n"
   ]
  },
  {
   "cell_type": "code",
   "execution_count": 158,
   "id": "8db5ffbf",
   "metadata": {},
   "outputs": [],
   "source": [
    "modeling_data['mortality_rate'] = modeling_data['killed_victims']/modeling_data['party_count']\n",
    "modeling_data['injury_rate'] = modeling_data['injured_victims']/modeling_data['party_count']\n",
    "modeling_data['is_killed'] = modeling_data['killed_victims'] != 0\n",
    "modeling_data['is_killed'] = modeling_data['is_killed'].astype(int)"
   ]
  },
  {
   "cell_type": "code",
   "execution_count": 159,
   "id": "48f1ebb7",
   "metadata": {},
   "outputs": [],
   "source": [
    "columns_list = list(modeling_data.columns)\n",
    "removals = ['injured_victims', 'killed_victims',  'mortality_rate', 'injury_rate', 'is_killed', 'latitude', 'longitude']\n",
    "for rem in removals:\n",
    "    columns_list.remove(rem)\n",
    "model_x = np.array(modeling_data[columns_list])\n",
    "model_y = np.array(modeling_data['is_killed'])"
   ]
  },
  {
   "cell_type": "code",
   "execution_count": 160,
   "id": "73ea2bcb",
   "metadata": {},
   "outputs": [],
   "source": [
    "X_train, X_test, y_train, y_test = train_test_split(model_x, model_y, test_size=0.33, random_state=0)\n",
    "x_oversample, y_oversample = resample(X_train[y_train == 1], y_train[y_train == 1], replace=True, n_samples=X_train[y_train ==0].shape[0])\n",
    "X = np.vstack((X_train[y_train == 0], x_oversample))\n",
    "y = np.hstack((y_train[y_train == 0], y_oversample))\n"
   ]
  },
  {
   "cell_type": "code",
   "execution_count": 161,
   "id": "f7f683b7",
   "metadata": {
    "scrolled": false
   },
   "outputs": [],
   "source": [
    "#rfc = RandomForestClassifier()\n",
    "#parameters = {'n_estimators': [50, 100, 500], 'max_depth': [2, 5, 10, 30], 'min_samples_split': [2, 5, 10]}\n",
    "#clf = GridSearchCV(rfc, parameters, verbose=3, n_jobs=4)\n",
    "#clf.fit(X, y)"
   ]
  },
  {
   "cell_type": "code",
   "execution_count": 162,
   "id": "1fc1c002",
   "metadata": {},
   "outputs": [],
   "source": [
    "best_params_ = {'max_depth': 30, 'min_samples_split': 2, 'n_estimators': 500}"
   ]
  },
  {
   "cell_type": "code",
   "execution_count": 163,
   "id": "a365168d",
   "metadata": {
    "scrolled": true
   },
   "outputs": [
    {
     "data": {
      "text/html": [
       "<style>#sk-container-id-10 {color: black;background-color: white;}#sk-container-id-10 pre{padding: 0;}#sk-container-id-10 div.sk-toggleable {background-color: white;}#sk-container-id-10 label.sk-toggleable__label {cursor: pointer;display: block;width: 100%;margin-bottom: 0;padding: 0.3em;box-sizing: border-box;text-align: center;}#sk-container-id-10 label.sk-toggleable__label-arrow:before {content: \"▸\";float: left;margin-right: 0.25em;color: #696969;}#sk-container-id-10 label.sk-toggleable__label-arrow:hover:before {color: black;}#sk-container-id-10 div.sk-estimator:hover label.sk-toggleable__label-arrow:before {color: black;}#sk-container-id-10 div.sk-toggleable__content {max-height: 0;max-width: 0;overflow: hidden;text-align: left;background-color: #f0f8ff;}#sk-container-id-10 div.sk-toggleable__content pre {margin: 0.2em;color: black;border-radius: 0.25em;background-color: #f0f8ff;}#sk-container-id-10 input.sk-toggleable__control:checked~div.sk-toggleable__content {max-height: 200px;max-width: 100%;overflow: auto;}#sk-container-id-10 input.sk-toggleable__control:checked~label.sk-toggleable__label-arrow:before {content: \"▾\";}#sk-container-id-10 div.sk-estimator input.sk-toggleable__control:checked~label.sk-toggleable__label {background-color: #d4ebff;}#sk-container-id-10 div.sk-label input.sk-toggleable__control:checked~label.sk-toggleable__label {background-color: #d4ebff;}#sk-container-id-10 input.sk-hidden--visually {border: 0;clip: rect(1px 1px 1px 1px);clip: rect(1px, 1px, 1px, 1px);height: 1px;margin: -1px;overflow: hidden;padding: 0;position: absolute;width: 1px;}#sk-container-id-10 div.sk-estimator {font-family: monospace;background-color: #f0f8ff;border: 1px dotted black;border-radius: 0.25em;box-sizing: border-box;margin-bottom: 0.5em;}#sk-container-id-10 div.sk-estimator:hover {background-color: #d4ebff;}#sk-container-id-10 div.sk-parallel-item::after {content: \"\";width: 100%;border-bottom: 1px solid gray;flex-grow: 1;}#sk-container-id-10 div.sk-label:hover label.sk-toggleable__label {background-color: #d4ebff;}#sk-container-id-10 div.sk-serial::before {content: \"\";position: absolute;border-left: 1px solid gray;box-sizing: border-box;top: 0;bottom: 0;left: 50%;z-index: 0;}#sk-container-id-10 div.sk-serial {display: flex;flex-direction: column;align-items: center;background-color: white;padding-right: 0.2em;padding-left: 0.2em;position: relative;}#sk-container-id-10 div.sk-item {position: relative;z-index: 1;}#sk-container-id-10 div.sk-parallel {display: flex;align-items: stretch;justify-content: center;background-color: white;position: relative;}#sk-container-id-10 div.sk-item::before, #sk-container-id-10 div.sk-parallel-item::before {content: \"\";position: absolute;border-left: 1px solid gray;box-sizing: border-box;top: 0;bottom: 0;left: 50%;z-index: -1;}#sk-container-id-10 div.sk-parallel-item {display: flex;flex-direction: column;z-index: 1;position: relative;background-color: white;}#sk-container-id-10 div.sk-parallel-item:first-child::after {align-self: flex-end;width: 50%;}#sk-container-id-10 div.sk-parallel-item:last-child::after {align-self: flex-start;width: 50%;}#sk-container-id-10 div.sk-parallel-item:only-child::after {width: 0;}#sk-container-id-10 div.sk-dashed-wrapped {border: 1px dashed gray;margin: 0 0.4em 0.5em 0.4em;box-sizing: border-box;padding-bottom: 0.4em;background-color: white;}#sk-container-id-10 div.sk-label label {font-family: monospace;font-weight: bold;display: inline-block;line-height: 1.2em;}#sk-container-id-10 div.sk-label-container {text-align: center;}#sk-container-id-10 div.sk-container {/* jupyter's `normalize.less` sets `[hidden] { display: none; }` but bootstrap.min.css set `[hidden] { display: none !important; }` so we also need the `!important` here to be able to override the default hidden behavior on the sphinx rendered scikit-learn.org. See: https://github.com/scikit-learn/scikit-learn/issues/21755 */display: inline-block !important;position: relative;}#sk-container-id-10 div.sk-text-repr-fallback {display: none;}</style><div id=\"sk-container-id-10\" class=\"sk-top-container\"><div class=\"sk-text-repr-fallback\"><pre>Pipeline(steps=[(&#x27;feature_selection&#x27;,\n",
       "                 SelectFromModel(estimator=LinearSVC(max_iter=5000))),\n",
       "                (&#x27;classification&#x27;,\n",
       "                 RandomForestClassifier(max_depth=30, n_estimators=500))])</pre><b>In a Jupyter environment, please rerun this cell to show the HTML representation or trust the notebook. <br />On GitHub, the HTML representation is unable to render, please try loading this page with nbviewer.org.</b></div><div class=\"sk-container\" hidden><div class=\"sk-item sk-dashed-wrapped\"><div class=\"sk-label-container\"><div class=\"sk-label sk-toggleable\"><input class=\"sk-toggleable__control sk-hidden--visually\" id=\"sk-estimator-id-38\" type=\"checkbox\" ><label for=\"sk-estimator-id-38\" class=\"sk-toggleable__label sk-toggleable__label-arrow\">Pipeline</label><div class=\"sk-toggleable__content\"><pre>Pipeline(steps=[(&#x27;feature_selection&#x27;,\n",
       "                 SelectFromModel(estimator=LinearSVC(max_iter=5000))),\n",
       "                (&#x27;classification&#x27;,\n",
       "                 RandomForestClassifier(max_depth=30, n_estimators=500))])</pre></div></div></div><div class=\"sk-serial\"><div class=\"sk-item sk-dashed-wrapped\"><div class=\"sk-label-container\"><div class=\"sk-label sk-toggleable\"><input class=\"sk-toggleable__control sk-hidden--visually\" id=\"sk-estimator-id-39\" type=\"checkbox\" ><label for=\"sk-estimator-id-39\" class=\"sk-toggleable__label sk-toggleable__label-arrow\">feature_selection: SelectFromModel</label><div class=\"sk-toggleable__content\"><pre>SelectFromModel(estimator=LinearSVC(max_iter=5000))</pre></div></div></div><div class=\"sk-parallel\"><div class=\"sk-parallel-item\"><div class=\"sk-item\"><div class=\"sk-label-container\"><div class=\"sk-label sk-toggleable\"><input class=\"sk-toggleable__control sk-hidden--visually\" id=\"sk-estimator-id-40\" type=\"checkbox\" ><label for=\"sk-estimator-id-40\" class=\"sk-toggleable__label sk-toggleable__label-arrow\">estimator: LinearSVC</label><div class=\"sk-toggleable__content\"><pre>LinearSVC(max_iter=5000)</pre></div></div></div><div class=\"sk-serial\"><div class=\"sk-item\"><div class=\"sk-estimator sk-toggleable\"><input class=\"sk-toggleable__control sk-hidden--visually\" id=\"sk-estimator-id-41\" type=\"checkbox\" ><label for=\"sk-estimator-id-41\" class=\"sk-toggleable__label sk-toggleable__label-arrow\">LinearSVC</label><div class=\"sk-toggleable__content\"><pre>LinearSVC(max_iter=5000)</pre></div></div></div></div></div></div></div></div><div class=\"sk-item\"><div class=\"sk-estimator sk-toggleable\"><input class=\"sk-toggleable__control sk-hidden--visually\" id=\"sk-estimator-id-42\" type=\"checkbox\" ><label for=\"sk-estimator-id-42\" class=\"sk-toggleable__label sk-toggleable__label-arrow\">RandomForestClassifier</label><div class=\"sk-toggleable__content\"><pre>RandomForestClassifier(max_depth=30, n_estimators=500)</pre></div></div></div></div></div></div></div>"
      ],
      "text/plain": [
       "Pipeline(steps=[('feature_selection',\n",
       "                 SelectFromModel(estimator=LinearSVC(max_iter=5000))),\n",
       "                ('classification',\n",
       "                 RandomForestClassifier(max_depth=30, n_estimators=500))])"
      ]
     },
     "execution_count": 163,
     "metadata": {},
     "output_type": "execute_result"
    }
   ],
   "source": [
    "pip = Pipeline([\n",
    "  ('feature_selection', SelectFromModel(LinearSVC(max_iter = 5000))),\n",
    "  ('classification', RandomForestClassifier(**best_params_))\n",
    "])\n",
    "pip.fit(X, y)"
   ]
  },
  {
   "cell_type": "code",
   "execution_count": 164,
   "id": "851bec00",
   "metadata": {},
   "outputs": [
    {
     "name": "stdout",
     "output_type": "stream",
     "text": [
      "              precision    recall  f1-score   support\n",
      "\n",
      "           0       0.81      0.77      0.79    459801\n",
      "           1       0.78      0.82      0.80    459801\n",
      "\n",
      "    accuracy                           0.79    919602\n",
      "   macro avg       0.79      0.79      0.79    919602\n",
      "weighted avg       0.79      0.79      0.79    919602\n",
      "\n",
      "              precision    recall  f1-score   support\n",
      "\n",
      "           0       1.00      0.77      0.87    226402\n",
      "           1       0.03      0.72      0.05      2141\n",
      "\n",
      "    accuracy                           0.77    228543\n",
      "   macro avg       0.51      0.74      0.46    228543\n",
      "weighted avg       0.99      0.77      0.86    228543\n",
      "\n",
      "0.9906319598500063\n"
     ]
    }
   ],
   "source": [
    "pred_train = pip.predict(X)\n",
    "pred_test = pip.predict(X_test)\n",
    "print(classification_report(y, pred_train))\n",
    "print(classification_report(y_test, pred_test))\n",
    "print(1-np.mean(y_test))"
   ]
  },
  {
   "cell_type": "code",
   "execution_count": 169,
   "id": "1c3695da",
   "metadata": {},
   "outputs": [
    {
     "name": "stdout",
     "output_type": "stream",
     "text": [
      "0.7900142022759242\n"
     ]
    }
   ],
   "source": [
    "print(matthews_corrcoef(y, pred_train))"
   ]
  },
  {
   "cell_type": "code",
   "execution_count": 166,
   "id": "09428c0e",
   "metadata": {},
   "outputs": [],
   "source": [
    "reg = RandomForestClassifier(**best_params_)\n",
    "reg.fit(X, y)\n",
    "pred_train = reg.predict(X)\n",
    "pred_test = reg.predict(X_test)\n"
   ]
  },
  {
   "cell_type": "code",
   "execution_count": 167,
   "id": "ff13bed4",
   "metadata": {
    "scrolled": true
   },
   "outputs": [
    {
     "name": "stdout",
     "output_type": "stream",
     "text": [
      "              precision    recall  f1-score   support\n",
      "\n",
      "           0       0.92      0.86      0.89    459801\n",
      "           1       0.87      0.93      0.90    459801\n",
      "\n",
      "    accuracy                           0.89    919602\n",
      "   macro avg       0.90      0.89      0.89    919602\n",
      "weighted avg       0.90      0.89      0.89    919602\n",
      "\n",
      "              precision    recall  f1-score   support\n",
      "\n",
      "           0       0.99      0.86      0.92    226402\n",
      "           1       0.03      0.48      0.06      2141\n",
      "\n",
      "    accuracy                           0.85    228543\n",
      "   macro avg       0.51      0.67      0.49    228543\n",
      "weighted avg       0.99      0.85      0.91    228543\n",
      "\n",
      "0.9906319598500063\n"
     ]
    }
   ],
   "source": [
    "print(classification_report(y, pred_train))\n",
    "print(classification_report(y_test, pred_test))\n",
    "print(1-np.mean(y_test))"
   ]
  },
  {
   "cell_type": "code",
   "execution_count": 168,
   "id": "c27b861f",
   "metadata": {},
   "outputs": [
    {
     "name": "stdout",
     "output_type": "stream",
     "text": [
      "0.0914404391973855\n"
     ]
    }
   ],
   "source": [
    "print(matthews_corrcoef(y_test, pred_test))"
   ]
  },
  {
   "cell_type": "markdown",
   "id": "5a27ff10",
   "metadata": {},
   "source": [
    "# TODO:\n",
    "# split train and test before oversample for more accurate test"
   ]
  },
  {
   "cell_type": "code",
   "execution_count": null,
   "id": "f981c4dd",
   "metadata": {},
   "outputs": [],
   "source": []
  }
 ],
 "metadata": {
  "kernelspec": {
   "display_name": "Python 3 (ipykernel)",
   "language": "python",
   "name": "python3"
  },
  "language_info": {
   "codemirror_mode": {
    "name": "ipython",
    "version": 3
   },
   "file_extension": ".py",
   "mimetype": "text/x-python",
   "name": "python",
   "nbconvert_exporter": "python",
   "pygments_lexer": "ipython3",
   "version": "3.10.7"
  }
 },
 "nbformat": 4,
 "nbformat_minor": 5
}

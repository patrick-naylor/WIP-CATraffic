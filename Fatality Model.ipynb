{
 "cells": [
  {
   "cell_type": "code",
   "execution_count": 1,
   "id": "0950a011",
   "metadata": {},
   "outputs": [],
   "source": [
    "import pandas as pd\n",
    "import numpy as np"
   ]
  },
  {
   "cell_type": "code",
   "execution_count": 2,
   "id": "6af97a5f",
   "metadata": {},
   "outputs": [],
   "source": [
    "hospitals = pd.read_csv('/Users/patricknaylor/desktop/CA_traffic/Data/health_facility_locations.csv', engine = 'python')\n",
    "colission_loc = pd.read_csv('/Users/patricknaylor/desktop/CA_traffic/Data/position_df.csv')\n",
    "kill_res = np.loadtxt('/Users/patricknaylor/desktop/CA_traffic/Data/killed_res.csv', delimiter=',')\n",
    "kill_res_df = pd.DataFrame(data=kill_res, columns=['killed'])"
   ]
  },
  {
   "cell_type": "code",
   "execution_count": null,
   "id": "57df8756",
   "metadata": {},
   "outputs": [],
   "source": []
  }
 ],
 "metadata": {
  "kernelspec": {
   "display_name": "Python 3 (ipykernel)",
   "language": "python",
   "name": "python3"
  },
  "language_info": {
   "codemirror_mode": {
    "name": "ipython",
    "version": 3
   },
   "file_extension": ".py",
   "mimetype": "text/x-python",
   "name": "python",
   "nbconvert_exporter": "python",
   "pygments_lexer": "ipython3",
   "version": "3.10.7"
  }
 },
 "nbformat": 4,
 "nbformat_minor": 5
}

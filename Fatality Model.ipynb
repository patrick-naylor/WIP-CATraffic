{
 "cells": [
  {
   "cell_type": "code",
   "execution_count": null,
   "id": "0950a011",
   "metadata": {},
   "outputs": [],
   "source": [
    "import pandas as pd\n",
    "import numpy as np\n",
    "from requests import get\n",
    "from pandas import json_normalize\n",
    "import time\n",
    "from sklearn.linear_model import SGDRegressor\n",
    "from sklearn.model_selection import train_test_split\n",
    "from sklearn.metrics import r2_score\n",
    "from sklearn.neighbors import KNeighborsClassifier\n",
    "from sklearn.feature_selection import SequentialFeatureSelector\n",
    "from sklearn.linear_model import SGDClassifier\n",
    "from sklearn.metrics import classification_report\n",
    "from sklearn.utils import resample\n",
    "from sklearn.ensemble import RandomForestClassifier\n",
    "from sklearn.model_selection import GridSearchCV\n",
    "form sklearn.pipeline import Pipeline\n",
    "from sklear.feature_selection import SelectFromModel"
   ]
  },
  {
   "cell_type": "code",
   "execution_count": 15,
   "id": "ca991a33",
   "metadata": {},
   "outputs": [],
   "source": [
    "modeling_data = pd.read_csv('/Users/patricknaylor/Desktop/CA_traffic/Data/selected_columns.csv')"
   ]
  },
  {
   "cell_type": "code",
   "execution_count": 16,
   "id": "c82d02ed",
   "metadata": {},
   "outputs": [
    {
     "name": "stdout",
     "output_type": "stream",
     "text": [
      "latitude                           281296\n",
      "longitude                          315729\n",
      "statewide_vehicle_type_at_fault        15\n",
      "alcohol_involved                        2\n",
      "truck_collision                         2\n",
      "motorcycle_collision                    2\n",
      "bicycle_collision                       2\n",
      "pedestrian_collision                    2\n",
      "lighting                                5\n",
      "road_surface                            5\n",
      "hit_and_run                             3\n",
      "party_count                            14\n",
      "injured_victims                        27\n",
      "killed_victims                          7\n",
      "location_type                           3\n",
      "county_location                        58\n",
      "population                              8\n",
      "county_location_population             58\n",
      "dtype: int64\n"
     ]
    }
   ],
   "source": [
    "print(modeling_data.nunique())"
   ]
  },
  {
   "cell_type": "code",
   "execution_count": 17,
   "id": "f7b39caa",
   "metadata": {},
   "outputs": [],
   "source": [
    "def absolute_maximum_norm(column):\n",
    "    return column / column.abs().max()\n",
    "\n",
    "norm_columns = ['latitude', 'longitude', 'county_location_population']\n",
    "\n",
    "for col in norm_columns:\n",
    "    modeling_data[col] = absolute_maximum_norm(modeling_data[col])\n"
   ]
  },
  {
   "cell_type": "code",
   "execution_count": 18,
   "id": "1af0166d",
   "metadata": {},
   "outputs": [],
   "source": [
    "modeling_data = pd.get_dummies(modeling_data, columns = ['alcohol_involved', 'statewide_vehicle_type_at_fault', 'truck_collision', 'motorcycle_collision', 'bicycle_collision', 'lighting',  'population', 'county_location', 'location_type', 'hit_and_run', 'road_surface'])\n"
   ]
  },
  {
   "cell_type": "code",
   "execution_count": 19,
   "id": "8db5ffbf",
   "metadata": {},
   "outputs": [],
   "source": [
    "modeling_data['mortality_rate'] = modeling_data['killed_victims']/modeling_data['party_count']\n",
    "modeling_data['injury_rate'] = modeling_data['injured_victims']/modeling_data['party_count']\n",
    "modeling_data['is_injured'] = modeling_data['injured_victims'] != 0\n",
    "modeling_data['is_injured'] = modeling_data['is_injured'].astype(int)"
   ]
  },
  {
   "cell_type": "code",
   "execution_count": 20,
   "id": "48f1ebb7",
   "metadata": {},
   "outputs": [],
   "source": [
    "columns_list = list(modeling_data.columns)\n",
    "removals = ['injured_victims', 'killed_victims',  'mortality_rate', 'injury_rate', 'is_injured', 'latitude', 'longitude']\n",
    "for rem in removals:\n",
    "    columns_list.remove(rem)\n",
    "model_x = np.array(modeling_data[columns_list])\n",
    "model_y = np.array(modeling_data['is_injured'])"
   ]
  },
  {
   "cell_type": "code",
   "execution_count": 21,
   "id": "a0cdb06d",
   "metadata": {},
   "outputs": [],
   "source": [
    "x_oversample, y_oversample = resample(model_x[model_y == 0], model_y[model_y == 0], replace=True, n_samples=model_x[model_y ==1].shape[0])\n",
    "X = np.vstack((model_x[model_y == 1], x_oversample))\n",
    "y = np.hstack((model_y[model_y == 1], y_oversample))"
   ]
  },
  {
   "cell_type": "code",
   "execution_count": 22,
   "id": "73ea2bcb",
   "metadata": {},
   "outputs": [],
   "source": [
    "X_train, X_test, y_train, y_test = train_test_split(X, y, test_size=0.33, random_state=0)"
   ]
  },
  {
   "cell_type": "code",
   "execution_count": null,
   "id": "c746b7bd",
   "metadata": {},
   "outputs": [],
   "source": []
  },
  {
   "cell_type": "code",
   "execution_count": null,
   "id": "06baf9dd",
   "metadata": {
    "scrolled": false
   },
   "outputs": [
    {
     "name": "stdout",
     "output_type": "stream",
     "text": [
      "Fitting 5 folds for each of 36 candidates, totalling 180 fits\n",
      "[CV 1/5] END max_depth=2, min_samples_split=2, n_estimators=50;, score=0.610 total time=   2.2s\n",
      "[CV 2/5] END max_depth=2, min_samples_split=2, n_estimators=50;, score=0.607 total time=   2.2s\n",
      "[CV 3/5] END max_depth=2, min_samples_split=2, n_estimators=50;, score=0.606 total time=   2.3s\n",
      "[CV 4/5] END max_depth=2, min_samples_split=2, n_estimators=50;, score=0.607 total time=   2.3s\n",
      "[CV 5/5] END max_depth=2, min_samples_split=2, n_estimators=50;, score=0.612 total time=   2.2s\n",
      "[CV 1/5] END max_depth=2, min_samples_split=2, n_estimators=100;, score=0.601 total time=   4.4s\n",
      "[CV 2/5] END max_depth=2, min_samples_split=2, n_estimators=100;, score=0.602 total time=   4.4s\n",
      "[CV 3/5] END max_depth=2, min_samples_split=2, n_estimators=100;, score=0.608 total time=   4.4s\n",
      "[CV 4/5] END max_depth=2, min_samples_split=2, n_estimators=100;, score=0.613 total time=   4.4s\n",
      "[CV 5/5] END max_depth=2, min_samples_split=2, n_estimators=100;, score=0.612 total time=   4.5s\n",
      "[CV 1/5] END max_depth=2, min_samples_split=2, n_estimators=500;, score=0.611 total time=  22.2s\n",
      "[CV 2/5] END max_depth=2, min_samples_split=2, n_estimators=500;, score=0.612 total time=  21.6s\n",
      "[CV 3/5] END max_depth=2, min_samples_split=2, n_estimators=500;, score=0.607 total time=  21.8s\n",
      "[CV 4/5] END max_depth=2, min_samples_split=2, n_estimators=500;, score=0.611 total time=  21.9s\n",
      "[CV 5/5] END max_depth=2, min_samples_split=2, n_estimators=500;, score=0.612 total time=  21.5s\n",
      "[CV 1/5] END max_depth=2, min_samples_split=5, n_estimators=50;, score=0.612 total time=   2.2s\n",
      "[CV 2/5] END max_depth=2, min_samples_split=5, n_estimators=50;, score=0.606 total time=   2.2s\n",
      "[CV 3/5] END max_depth=2, min_samples_split=5, n_estimators=50;, score=0.607 total time=   2.3s\n",
      "[CV 4/5] END max_depth=2, min_samples_split=5, n_estimators=50;, score=0.613 total time=   2.3s\n",
      "[CV 5/5] END max_depth=2, min_samples_split=5, n_estimators=50;, score=0.600 total time=   2.3s\n",
      "[CV 1/5] END max_depth=2, min_samples_split=5, n_estimators=100;, score=0.608 total time=   4.5s\n",
      "[CV 2/5] END max_depth=2, min_samples_split=5, n_estimators=100;, score=0.611 total time=   4.4s\n",
      "[CV 3/5] END max_depth=2, min_samples_split=5, n_estimators=100;, score=0.608 total time=   4.5s\n",
      "[CV 4/5] END max_depth=2, min_samples_split=5, n_estimators=100;, score=0.609 total time=   4.5s\n",
      "[CV 5/5] END max_depth=2, min_samples_split=5, n_estimators=100;, score=0.604 total time=   4.4s\n",
      "[CV 1/5] END max_depth=2, min_samples_split=5, n_estimators=500;, score=0.610 total time=  22.2s\n",
      "[CV 2/5] END max_depth=2, min_samples_split=5, n_estimators=500;, score=0.608 total time=  21.7s\n",
      "[CV 3/5] END max_depth=2, min_samples_split=5, n_estimators=500;, score=0.608 total time=  22.2s\n",
      "[CV 4/5] END max_depth=2, min_samples_split=5, n_estimators=500;, score=0.613 total time=  21.9s\n",
      "[CV 5/5] END max_depth=2, min_samples_split=5, n_estimators=500;, score=0.610 total time=  21.9s\n",
      "[CV 1/5] END max_depth=2, min_samples_split=10, n_estimators=50;, score=0.609 total time=   2.2s\n",
      "[CV 2/5] END max_depth=2, min_samples_split=10, n_estimators=50;, score=0.611 total time=   2.3s\n",
      "[CV 3/5] END max_depth=2, min_samples_split=10, n_estimators=50;, score=0.608 total time=   2.2s\n",
      "[CV 4/5] END max_depth=2, min_samples_split=10, n_estimators=50;, score=0.614 total time=   2.3s\n",
      "[CV 5/5] END max_depth=2, min_samples_split=10, n_estimators=50;, score=0.613 total time=   2.2s\n",
      "[CV 1/5] END max_depth=2, min_samples_split=10, n_estimators=100;, score=0.607 total time=   4.4s\n",
      "[CV 2/5] END max_depth=2, min_samples_split=10, n_estimators=100;, score=0.611 total time=   4.3s\n",
      "[CV 3/5] END max_depth=2, min_samples_split=10, n_estimators=100;, score=0.606 total time=   4.4s\n",
      "[CV 4/5] END max_depth=2, min_samples_split=10, n_estimators=100;, score=0.608 total time=   4.4s\n",
      "[CV 5/5] END max_depth=2, min_samples_split=10, n_estimators=100;, score=0.610 total time=   4.4s\n",
      "[CV 1/5] END max_depth=2, min_samples_split=10, n_estimators=500;, score=0.613 total time=  21.7s\n",
      "[CV 2/5] END max_depth=2, min_samples_split=10, n_estimators=500;, score=0.610 total time=  21.5s\n",
      "[CV 3/5] END max_depth=2, min_samples_split=10, n_estimators=500;, score=0.605 total time=  22.0s\n",
      "[CV 4/5] END max_depth=2, min_samples_split=10, n_estimators=500;, score=0.612 total time=  20.9s\n",
      "[CV 5/5] END max_depth=2, min_samples_split=10, n_estimators=500;, score=0.610 total time=  22.1s\n",
      "[CV 1/5] END max_depth=5, min_samples_split=2, n_estimators=50;, score=0.616 total time=   3.7s\n",
      "[CV 2/5] END max_depth=5, min_samples_split=2, n_estimators=50;, score=0.621 total time=   3.7s\n",
      "[CV 3/5] END max_depth=5, min_samples_split=2, n_estimators=50;, score=0.616 total time=   3.8s\n",
      "[CV 4/5] END max_depth=5, min_samples_split=2, n_estimators=50;, score=0.620 total time=   3.7s\n",
      "[CV 5/5] END max_depth=5, min_samples_split=2, n_estimators=50;, score=0.619 total time=   3.8s\n",
      "[CV 1/5] END max_depth=5, min_samples_split=2, n_estimators=100;, score=0.620 total time=   7.5s\n",
      "[CV 2/5] END max_depth=5, min_samples_split=2, n_estimators=100;, score=0.617 total time=   7.3s\n",
      "[CV 3/5] END max_depth=5, min_samples_split=2, n_estimators=100;, score=0.611 total time=   7.5s\n",
      "[CV 4/5] END max_depth=5, min_samples_split=2, n_estimators=100;, score=0.620 total time=   7.5s\n",
      "[CV 5/5] END max_depth=5, min_samples_split=2, n_estimators=100;, score=0.620 total time=   7.5s\n",
      "[CV 1/5] END max_depth=5, min_samples_split=2, n_estimators=500;, score=0.618 total time=  37.1s\n",
      "[CV 2/5] END max_depth=5, min_samples_split=2, n_estimators=500;, score=0.620 total time=  36.6s\n",
      "[CV 3/5] END max_depth=5, min_samples_split=2, n_estimators=500;, score=0.618 total time=  36.8s\n",
      "[CV 4/5] END max_depth=5, min_samples_split=2, n_estimators=500;, score=0.621 total time=  37.0s\n",
      "[CV 5/5] END max_depth=5, min_samples_split=2, n_estimators=500;, score=0.618 total time=  36.9s\n",
      "[CV 1/5] END max_depth=5, min_samples_split=5, n_estimators=50;, score=0.615 total time=   3.8s\n",
      "[CV 2/5] END max_depth=5, min_samples_split=5, n_estimators=50;, score=0.615 total time=   3.7s\n",
      "[CV 3/5] END max_depth=5, min_samples_split=5, n_estimators=50;, score=0.610 total time=   3.8s\n",
      "[CV 4/5] END max_depth=5, min_samples_split=5, n_estimators=50;, score=0.617 total time=   3.8s\n",
      "[CV 5/5] END max_depth=5, min_samples_split=5, n_estimators=50;, score=0.627 total time=   3.7s\n",
      "[CV 1/5] END max_depth=5, min_samples_split=5, n_estimators=100;, score=0.622 total time=   7.4s\n",
      "[CV 2/5] END max_depth=5, min_samples_split=5, n_estimators=100;, score=0.627 total time=   7.4s\n",
      "[CV 3/5] END max_depth=5, min_samples_split=5, n_estimators=100;, score=0.613 total time=   7.6s\n",
      "[CV 4/5] END max_depth=5, min_samples_split=5, n_estimators=100;, score=0.616 total time=   7.5s\n",
      "[CV 5/5] END max_depth=5, min_samples_split=5, n_estimators=100;, score=0.621 total time=   7.4s\n",
      "[CV 1/5] END max_depth=5, min_samples_split=5, n_estimators=500;, score=0.619 total time=  37.1s\n",
      "[CV 2/5] END max_depth=5, min_samples_split=5, n_estimators=500;, score=0.621 total time=  36.9s\n",
      "[CV 3/5] END max_depth=5, min_samples_split=5, n_estimators=500;, score=0.615 total time=  37.4s\n",
      "[CV 4/5] END max_depth=5, min_samples_split=5, n_estimators=500;, score=0.620 total time=  37.2s\n",
      "[CV 5/5] END max_depth=5, min_samples_split=5, n_estimators=500;, score=0.618 total time=  37.2s\n",
      "[CV 1/5] END max_depth=5, min_samples_split=10, n_estimators=50;, score=0.618 total time=   3.8s\n",
      "[CV 2/5] END max_depth=5, min_samples_split=10, n_estimators=50;, score=0.618 total time=   3.8s\n",
      "[CV 3/5] END max_depth=5, min_samples_split=10, n_estimators=50;, score=0.612 total time=   3.8s\n",
      "[CV 4/5] END max_depth=5, min_samples_split=10, n_estimators=50;, score=0.626 total time=   3.8s\n",
      "[CV 5/5] END max_depth=5, min_samples_split=10, n_estimators=50;, score=0.612 total time=   3.7s\n",
      "[CV 1/5] END max_depth=5, min_samples_split=10, n_estimators=100;, score=0.620 total time=   7.5s\n",
      "[CV 2/5] END max_depth=5, min_samples_split=10, n_estimators=100;, score=0.618 total time=   7.4s\n",
      "[CV 3/5] END max_depth=5, min_samples_split=10, n_estimators=100;, score=0.616 total time=   7.4s\n",
      "[CV 4/5] END max_depth=5, min_samples_split=10, n_estimators=100;, score=0.615 total time=   7.4s\n"
     ]
    },
    {
     "name": "stdout",
     "output_type": "stream",
     "text": [
      "[CV 5/5] END max_depth=5, min_samples_split=10, n_estimators=100;, score=0.623 total time=   7.5s\n",
      "[CV 1/5] END max_depth=5, min_samples_split=10, n_estimators=500;, score=0.623 total time=  37.0s\n",
      "[CV 2/5] END max_depth=5, min_samples_split=10, n_estimators=500;, score=0.620 total time=  37.2s\n",
      "[CV 3/5] END max_depth=5, min_samples_split=10, n_estimators=500;, score=0.615 total time=  37.1s\n",
      "[CV 4/5] END max_depth=5, min_samples_split=10, n_estimators=500;, score=0.621 total time=  36.9s\n",
      "[CV 5/5] END max_depth=5, min_samples_split=10, n_estimators=500;, score=0.618 total time=  37.0s\n",
      "[CV 1/5] END max_depth=10, min_samples_split=2, n_estimators=50;, score=0.629 total time=   5.7s\n",
      "[CV 2/5] END max_depth=10, min_samples_split=2, n_estimators=50;, score=0.631 total time=   5.6s\n",
      "[CV 3/5] END max_depth=10, min_samples_split=2, n_estimators=50;, score=0.627 total time=   5.8s\n",
      "[CV 4/5] END max_depth=10, min_samples_split=2, n_estimators=50;, score=0.630 total time=   5.7s\n",
      "[CV 5/5] END max_depth=10, min_samples_split=2, n_estimators=50;, score=0.629 total time=   5.8s\n",
      "[CV 1/5] END max_depth=10, min_samples_split=2, n_estimators=100;, score=0.629 total time=  11.3s\n",
      "[CV 2/5] END max_depth=10, min_samples_split=2, n_estimators=100;, score=0.632 total time=  11.2s\n",
      "[CV 3/5] END max_depth=10, min_samples_split=2, n_estimators=100;, score=0.627 total time=  11.3s\n",
      "[CV 4/5] END max_depth=10, min_samples_split=2, n_estimators=100;, score=0.630 total time=  11.4s\n",
      "[CV 5/5] END max_depth=10, min_samples_split=2, n_estimators=100;, score=0.630 total time=  11.4s\n",
      "[CV 1/5] END max_depth=10, min_samples_split=2, n_estimators=500;, score=0.629 total time=  56.1s\n",
      "[CV 2/5] END max_depth=10, min_samples_split=2, n_estimators=500;, score=0.631 total time=  56.0s\n",
      "[CV 3/5] END max_depth=10, min_samples_split=2, n_estimators=500;, score=0.628 total time=  56.5s\n",
      "[CV 4/5] END max_depth=10, min_samples_split=2, n_estimators=500;, score=0.630 total time=  56.1s\n",
      "[CV 5/5] END max_depth=10, min_samples_split=2, n_estimators=500;, score=0.631 total time=  56.1s\n",
      "[CV 1/5] END max_depth=10, min_samples_split=5, n_estimators=50;, score=0.629 total time=   5.7s\n",
      "[CV 2/5] END max_depth=10, min_samples_split=5, n_estimators=50;, score=0.630 total time=   5.8s\n",
      "[CV 3/5] END max_depth=10, min_samples_split=5, n_estimators=50;, score=0.624 total time=   5.8s\n",
      "[CV 4/5] END max_depth=10, min_samples_split=5, n_estimators=50;, score=0.628 total time=   5.7s\n",
      "[CV 5/5] END max_depth=10, min_samples_split=5, n_estimators=50;, score=0.630 total time=   5.8s\n",
      "[CV 1/5] END max_depth=10, min_samples_split=5, n_estimators=100;, score=0.629 total time=  12.0s\n",
      "[CV 2/5] END max_depth=10, min_samples_split=5, n_estimators=100;, score=0.632 total time=  11.8s\n",
      "[CV 3/5] END max_depth=10, min_samples_split=5, n_estimators=100;, score=0.628 total time=  11.3s\n",
      "[CV 4/5] END max_depth=10, min_samples_split=5, n_estimators=100;, score=0.630 total time=  11.5s\n",
      "[CV 5/5] END max_depth=10, min_samples_split=5, n_estimators=100;, score=0.630 total time=  11.2s\n",
      "[CV 1/5] END max_depth=10, min_samples_split=5, n_estimators=500;, score=0.629 total time=  56.6s\n",
      "[CV 2/5] END max_depth=10, min_samples_split=5, n_estimators=500;, score=0.632 total time=  56.4s\n",
      "[CV 3/5] END max_depth=10, min_samples_split=5, n_estimators=500;, score=0.628 total time=  57.3s\n",
      "[CV 4/5] END max_depth=10, min_samples_split=5, n_estimators=500;, score=0.630 total time=  58.6s\n",
      "[CV 5/5] END max_depth=10, min_samples_split=5, n_estimators=500;, score=0.630 total time=  58.4s\n",
      "[CV 1/5] END max_depth=10, min_samples_split=10, n_estimators=50;, score=0.628 total time=   5.9s\n",
      "[CV 2/5] END max_depth=10, min_samples_split=10, n_estimators=50;, score=0.631 total time=   5.7s\n",
      "[CV 3/5] END max_depth=10, min_samples_split=10, n_estimators=50;, score=0.628 total time=   5.9s\n",
      "[CV 4/5] END max_depth=10, min_samples_split=10, n_estimators=50;, score=0.628 total time=   5.8s\n",
      "[CV 5/5] END max_depth=10, min_samples_split=10, n_estimators=50;, score=0.629 total time=   5.9s\n",
      "[CV 1/5] END max_depth=10, min_samples_split=10, n_estimators=100;, score=0.630 total time=  11.6s\n",
      "[CV 2/5] END max_depth=10, min_samples_split=10, n_estimators=100;, score=0.631 total time=  11.4s\n",
      "[CV 3/5] END max_depth=10, min_samples_split=10, n_estimators=100;, score=0.631 total time=  11.4s\n",
      "[CV 4/5] END max_depth=10, min_samples_split=10, n_estimators=100;, score=0.628 total time=  11.4s\n",
      "[CV 5/5] END max_depth=10, min_samples_split=10, n_estimators=100;, score=0.631 total time=  11.4s\n",
      "[CV 1/5] END max_depth=10, min_samples_split=10, n_estimators=500;, score=0.629 total time=  56.7s\n",
      "[CV 2/5] END max_depth=10, min_samples_split=10, n_estimators=500;, score=0.632 total time=  56.0s\n",
      "[CV 3/5] END max_depth=10, min_samples_split=10, n_estimators=500;, score=0.629 total time=  56.5s\n",
      "[CV 4/5] END max_depth=10, min_samples_split=10, n_estimators=500;, score=0.630 total time=  56.3s\n",
      "[CV 5/5] END max_depth=10, min_samples_split=10, n_estimators=500;, score=0.630 total time=  56.4s\n",
      "[CV 1/5] END max_depth=30, min_samples_split=2, n_estimators=50;, score=0.636 total time=  10.0s\n",
      "[CV 2/5] END max_depth=30, min_samples_split=2, n_estimators=50;, score=0.636 total time=   9.9s\n",
      "[CV 3/5] END max_depth=30, min_samples_split=2, n_estimators=50;, score=0.635 total time=   9.8s\n",
      "[CV 4/5] END max_depth=30, min_samples_split=2, n_estimators=50;, score=0.634 total time=   9.9s\n",
      "[CV 5/5] END max_depth=30, min_samples_split=2, n_estimators=50;, score=0.636 total time=  10.0s\n",
      "[CV 1/5] END max_depth=30, min_samples_split=2, n_estimators=100;, score=0.637 total time=  20.1s\n",
      "[CV 2/5] END max_depth=30, min_samples_split=2, n_estimators=100;, score=0.636 total time=  19.8s\n",
      "[CV 3/5] END max_depth=30, min_samples_split=2, n_estimators=100;, score=0.635 total time=  20.0s\n",
      "[CV 4/5] END max_depth=30, min_samples_split=2, n_estimators=100;, score=0.633 total time=  19.8s\n",
      "[CV 5/5] END max_depth=30, min_samples_split=2, n_estimators=100;, score=0.636 total time=  19.9s\n",
      "[CV 1/5] END max_depth=30, min_samples_split=2, n_estimators=500;, score=0.637 total time= 1.7min\n",
      "[CV 2/5] END max_depth=30, min_samples_split=2, n_estimators=500;, score=0.636 total time= 1.6min\n",
      "[CV 3/5] END max_depth=30, min_samples_split=2, n_estimators=500;, score=0.636 total time= 1.7min\n",
      "[CV 4/5] END max_depth=30, min_samples_split=2, n_estimators=500;, score=0.634 total time= 1.7min\n",
      "[CV 5/5] END max_depth=30, min_samples_split=2, n_estimators=500;, score=0.636 total time= 1.7min\n",
      "[CV 1/5] END max_depth=30, min_samples_split=5, n_estimators=50;, score=0.637 total time=   9.9s\n",
      "[CV 2/5] END max_depth=30, min_samples_split=5, n_estimators=50;, score=0.637 total time=   9.8s\n",
      "[CV 3/5] END max_depth=30, min_samples_split=5, n_estimators=50;, score=0.637 total time=   9.8s\n",
      "[CV 4/5] END max_depth=30, min_samples_split=5, n_estimators=50;, score=0.634 total time=  10.3s\n",
      "[CV 5/5] END max_depth=30, min_samples_split=5, n_estimators=50;, score=0.637 total time=  10.6s\n",
      "[CV 1/5] END max_depth=30, min_samples_split=5, n_estimators=100;, score=0.638 total time=  20.4s\n",
      "[CV 2/5] END max_depth=30, min_samples_split=5, n_estimators=100;, score=0.637 total time=  20.6s\n",
      "[CV 3/5] END max_depth=30, min_samples_split=5, n_estimators=100;, score=0.636 total time=  20.1s\n",
      "[CV 4/5] END max_depth=30, min_samples_split=5, n_estimators=100;, score=0.634 total time=  20.2s\n",
      "[CV 5/5] END max_depth=30, min_samples_split=5, n_estimators=100;, score=0.637 total time=  20.5s\n"
     ]
    }
   ],
   "source": [
    "rfc = RandomForestClassifier()\n",
    "parameters = {'n_estimators': [50, 100, 500], 'max_depth': [2, 5, 10, 30], 'min_samples_split': [2, 5, 10]}\n",
    "clf = GridSearchCV(rfc, parameters, verbose=3)\n",
    "clf.fit(X_train, y_train)"
   ]
  },
  {
   "cell_type": "code",
   "execution_count": null,
   "id": "9c904ef6",
   "metadata": {},
   "outputs": [],
   "source": [
    "print(clf.best_params_)"
   ]
  },
  {
   "cell_type": "code",
   "execution_count": null,
   "id": "7eabdc61",
   "metadata": {},
   "outputs": [],
   "source": [
    "\n",
    "pip = Pipeline([\n",
    "  ('feature_selection', SelectFromModel(LinearSVC(penalty=\"l1\"))),\n",
    "  ('classification', RandomForestClassifier())\n",
    "])\n",
    "pip.fit(X_train, y_train)"
   ]
  },
  {
   "cell_type": "code",
   "execution_count": 27,
   "id": "09428c0e",
   "metadata": {},
   "outputs": [],
   "source": [
    "reg = RandomForestClassifier(n_estimators=100, max_depth = 4)\n",
    "reg.fit(X_train, y_train)\n",
    "pred_train = reg.predict(X_train)\n",
    "pred_test = reg.predict(X_test)\n"
   ]
  },
  {
   "cell_type": "code",
   "execution_count": 28,
   "id": "ff13bed4",
   "metadata": {},
   "outputs": [
    {
     "name": "stdout",
     "output_type": "stream",
     "text": [
      "              precision    recall  f1-score   support\n",
      "\n",
      "           0       0.58      0.78      0.67    162664\n",
      "           1       0.67      0.44      0.53    162406\n",
      "\n",
      "    accuracy                           0.61    325070\n",
      "   macro avg       0.63      0.61      0.60    325070\n",
      "weighted avg       0.63      0.61      0.60    325070\n",
      "\n",
      "              precision    recall  f1-score   support\n",
      "\n",
      "           0       0.58      0.78      0.67     79926\n",
      "           1       0.67      0.44      0.53     80184\n",
      "\n",
      "    accuracy                           0.61    160110\n",
      "   macro avg       0.63      0.61      0.60    160110\n",
      "weighted avg       0.63      0.61      0.60    160110\n",
      "\n",
      "0.4991943039160577\n"
     ]
    }
   ],
   "source": [
    "print(classification_report(y_train, pred_train))\n",
    "print(classification_report(y_test, pred_test))\n",
    "print(1-np.mean(y_test))"
   ]
  },
  {
   "cell_type": "code",
   "execution_count": null,
   "id": "3c21fbc7",
   "metadata": {},
   "outputs": [],
   "source": []
  }
 ],
 "metadata": {
  "kernelspec": {
   "display_name": "Python 3 (ipykernel)",
   "language": "python",
   "name": "python3"
  },
  "language_info": {
   "codemirror_mode": {
    "name": "ipython",
    "version": 3
   },
   "file_extension": ".py",
   "mimetype": "text/x-python",
   "name": "python",
   "nbconvert_exporter": "python",
   "pygments_lexer": "ipython3",
   "version": "3.10.7"
  }
 },
 "nbformat": 4,
 "nbformat_minor": 5
}

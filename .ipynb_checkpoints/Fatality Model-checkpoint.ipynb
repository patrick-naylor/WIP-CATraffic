{
 "cells": [
  {
   "cell_type": "code",
   "execution_count": 97,
   "id": "0950a011",
   "metadata": {},
   "outputs": [],
   "source": [
    "import pandas as pd\n",
    "import numpy as np\n",
    "from requests import get\n",
    "from pandas import json_normalize\n",
    "import time\n",
    "from sklearn.linear_model import SGDRegressor\n",
    "from sklearn.model_selection import train_test_split\n",
    "from sklearn.metrics import r2_score\n",
    "from sklearn.neighbors import KNeighborsClassifier\n",
    "from sklearn.feature_selection import SequentialFeatureSelector\n",
    "from sklearn.linear_model import SGDClassifier\n",
    "from sklearn.metrics import classification_report\n",
    "from sklearn.utils import resample\n",
    "from sklearn.ensemble import RandomForestClassifier\n",
    "from sklearn.model_selection import GridSearchCV\n",
    "from sklearn.pipeline import Pipeline\n",
    "from sklearn.feature_selection import SelectFromModel\n",
    "from sklearn.svm import LinearSVC"
   ]
  },
  {
   "cell_type": "code",
   "execution_count": 98,
   "id": "ca991a33",
   "metadata": {},
   "outputs": [],
   "source": [
    "modeling_data = pd.read_csv('/Users/patricknaylor/Desktop/CA_traffic/Data/selected_columns.csv')"
   ]
  },
  {
   "cell_type": "code",
   "execution_count": 99,
   "id": "c82d02ed",
   "metadata": {},
   "outputs": [
    {
     "name": "stdout",
     "output_type": "stream",
     "text": [
      "latitude                           281296\n",
      "longitude                          315729\n",
      "statewide_vehicle_type_at_fault        15\n",
      "alcohol_involved                        2\n",
      "truck_collision                         2\n",
      "motorcycle_collision                    2\n",
      "bicycle_collision                       2\n",
      "pedestrian_collision                    2\n",
      "lighting                                5\n",
      "road_surface                            5\n",
      "hit_and_run                             3\n",
      "party_count                            14\n",
      "injured_victims                        27\n",
      "killed_victims                          7\n",
      "location_type                           3\n",
      "county_location                        58\n",
      "population                              8\n",
      "county_location_population             58\n",
      "dtype: int64\n"
     ]
    }
   ],
   "source": [
    "print(modeling_data.nunique())"
   ]
  },
  {
   "cell_type": "code",
   "execution_count": 100,
   "id": "f7b39caa",
   "metadata": {},
   "outputs": [],
   "source": [
    "def absolute_maximum_norm(column):\n",
    "    return column / column.abs().max()\n",
    "\n",
    "norm_columns = ['latitude', 'longitude', 'county_location_population']\n",
    "\n",
    "for col in norm_columns:\n",
    "    modeling_data[col] = absolute_maximum_norm(modeling_data[col])\n"
   ]
  },
  {
   "cell_type": "code",
   "execution_count": 101,
   "id": "1af0166d",
   "metadata": {},
   "outputs": [],
   "source": [
    "modeling_data = pd.get_dummies(modeling_data, columns = ['alcohol_involved', 'statewide_vehicle_type_at_fault', 'truck_collision', 'motorcycle_collision', 'bicycle_collision', 'lighting',  'population', 'county_location', 'location_type', 'hit_and_run', 'road_surface'])\n"
   ]
  },
  {
   "cell_type": "code",
   "execution_count": 102,
   "id": "8db5ffbf",
   "metadata": {},
   "outputs": [],
   "source": [
    "modeling_data['mortality_rate'] = modeling_data['killed_victims']/modeling_data['party_count']\n",
    "modeling_data['injury_rate'] = modeling_data['injured_victims']/modeling_data['party_count']\n",
    "modeling_data['is_killed'] = modeling_data['killed_victims'] != 0\n",
    "modeling_data['is_killed'] = modeling_data['is_killed'].astype(int)"
   ]
  },
  {
   "cell_type": "code",
   "execution_count": 103,
   "id": "48f1ebb7",
   "metadata": {},
   "outputs": [],
   "source": [
    "columns_list = list(modeling_data.columns)\n",
    "removals = ['injured_victims', 'killed_victims',  'mortality_rate', 'injury_rate', 'is_killed', 'latitude', 'longitude']\n",
    "for rem in removals:\n",
    "    columns_list.remove(rem)\n",
    "model_x = np.array(modeling_data[columns_list])\n",
    "model_y = np.array(modeling_data['is_killed'])"
   ]
  },
  {
   "cell_type": "code",
   "execution_count": 104,
   "id": "0acae561",
   "metadata": {},
   "outputs": [
    {
     "name": "stdout",
     "output_type": "stream",
     "text": [
      "(686203,)\n"
     ]
    }
   ],
   "source": [
    "print(np.shape(model_y[model_y == 0]))"
   ]
  },
  {
   "cell_type": "code",
   "execution_count": 105,
   "id": "a0cdb06d",
   "metadata": {},
   "outputs": [],
   "source": [
    "x_oversample, y_oversample = resample(model_x[model_y == 1], model_y[model_y == 1], replace=True, n_samples=model_x[model_y ==0].shape[0])\n",
    "X = np.vstack((model_x[model_y == 0], x_oversample))\n",
    "y = np.hstack((model_y[model_y == 0], y_oversample))"
   ]
  },
  {
   "cell_type": "code",
   "execution_count": 106,
   "id": "73ea2bcb",
   "metadata": {},
   "outputs": [],
   "source": [
    "X_train, X_test, y_train, y_test = train_test_split(X, y, test_size=0.33, random_state=0)"
   ]
  },
  {
   "cell_type": "code",
   "execution_count": 107,
   "id": "3b4e2064",
   "metadata": {
    "scrolled": false
   },
   "outputs": [
    {
     "name": "stdout",
     "output_type": "stream",
     "text": [
      "Fitting 5 folds for each of 36 candidates, totalling 180 fits\n",
      "[CV 1/5] END max_depth=2, min_samples_split=2, n_estimators=50;, score=0.743 total time=   7.5s\n",
      "[CV 2/5] END max_depth=2, min_samples_split=2, n_estimators=50;, score=0.729 total time=   6.9s\n",
      "[CV 3/5] END max_depth=2, min_samples_split=2, n_estimators=50;, score=0.744 total time=   6.8s\n",
      "[CV 4/5] END max_depth=2, min_samples_split=2, n_estimators=50;, score=0.756 total time=   6.8s\n",
      "[CV 5/5] END max_depth=2, min_samples_split=2, n_estimators=50;, score=0.737 total time=   6.9s\n",
      "[CV 1/5] END max_depth=2, min_samples_split=2, n_estimators=100;, score=0.747 total time=  13.3s\n",
      "[CV 2/5] END max_depth=2, min_samples_split=2, n_estimators=100;, score=0.743 total time=  13.5s\n",
      "[CV 3/5] END max_depth=2, min_samples_split=2, n_estimators=100;, score=0.741 total time=  13.3s\n",
      "[CV 4/5] END max_depth=2, min_samples_split=2, n_estimators=100;, score=0.753 total time=  13.5s\n",
      "[CV 5/5] END max_depth=2, min_samples_split=2, n_estimators=100;, score=0.741 total time=  13.5s\n",
      "[CV 1/5] END max_depth=2, min_samples_split=2, n_estimators=500;, score=0.746 total time= 1.1min\n",
      "[CV 2/5] END max_depth=2, min_samples_split=2, n_estimators=500;, score=0.743 total time= 1.1min\n",
      "[CV 3/5] END max_depth=2, min_samples_split=2, n_estimators=500;, score=0.744 total time= 1.1min\n",
      "[CV 4/5] END max_depth=2, min_samples_split=2, n_estimators=500;, score=0.745 total time= 1.1min\n",
      "[CV 5/5] END max_depth=2, min_samples_split=2, n_estimators=500;, score=0.748 total time= 1.1min\n",
      "[CV 1/5] END max_depth=2, min_samples_split=5, n_estimators=50;, score=0.721 total time=   6.9s\n",
      "[CV 2/5] END max_depth=2, min_samples_split=5, n_estimators=50;, score=0.750 total time=   6.9s\n",
      "[CV 3/5] END max_depth=2, min_samples_split=5, n_estimators=50;, score=0.740 total time=   6.8s\n",
      "[CV 4/5] END max_depth=2, min_samples_split=5, n_estimators=50;, score=0.737 total time=   6.8s\n",
      "[CV 5/5] END max_depth=2, min_samples_split=5, n_estimators=50;, score=0.749 total time=   6.8s\n",
      "[CV 1/5] END max_depth=2, min_samples_split=5, n_estimators=100;, score=0.746 total time=  13.3s\n",
      "[CV 2/5] END max_depth=2, min_samples_split=5, n_estimators=100;, score=0.754 total time=  13.4s\n",
      "[CV 3/5] END max_depth=2, min_samples_split=5, n_estimators=100;, score=0.750 total time=  13.4s\n",
      "[CV 4/5] END max_depth=2, min_samples_split=5, n_estimators=100;, score=0.742 total time=  13.5s\n",
      "[CV 5/5] END max_depth=2, min_samples_split=5, n_estimators=100;, score=0.743 total time=  13.5s\n",
      "[CV 1/5] END max_depth=2, min_samples_split=5, n_estimators=500;, score=0.748 total time= 1.1min\n",
      "[CV 2/5] END max_depth=2, min_samples_split=5, n_estimators=500;, score=0.744 total time= 1.1min\n",
      "[CV 3/5] END max_depth=2, min_samples_split=5, n_estimators=500;, score=0.746 total time= 1.1min\n",
      "[CV 4/5] END max_depth=2, min_samples_split=5, n_estimators=500;, score=0.747 total time= 1.1min\n",
      "[CV 5/5] END max_depth=2, min_samples_split=5, n_estimators=500;, score=0.746 total time= 1.1min\n",
      "[CV 1/5] END max_depth=2, min_samples_split=10, n_estimators=50;, score=0.765 total time=   6.9s\n",
      "[CV 2/5] END max_depth=2, min_samples_split=10, n_estimators=50;, score=0.741 total time=   6.8s\n",
      "[CV 3/5] END max_depth=2, min_samples_split=10, n_estimators=50;, score=0.718 total time=   6.8s\n",
      "[CV 4/5] END max_depth=2, min_samples_split=10, n_estimators=50;, score=0.750 total time=   6.9s\n",
      "[CV 5/5] END max_depth=2, min_samples_split=10, n_estimators=50;, score=0.757 total time=   6.9s\n",
      "[CV 1/5] END max_depth=2, min_samples_split=10, n_estimators=100;, score=0.743 total time=  13.4s\n",
      "[CV 2/5] END max_depth=2, min_samples_split=10, n_estimators=100;, score=0.740 total time=  13.5s\n",
      "[CV 3/5] END max_depth=2, min_samples_split=10, n_estimators=100;, score=0.756 total time=  13.3s\n",
      "[CV 4/5] END max_depth=2, min_samples_split=10, n_estimators=100;, score=0.746 total time=  13.4s\n",
      "[CV 5/5] END max_depth=2, min_samples_split=10, n_estimators=100;, score=0.746 total time=  13.4s\n",
      "[CV 1/5] END max_depth=2, min_samples_split=10, n_estimators=500;, score=0.747 total time= 1.1min\n",
      "[CV 2/5] END max_depth=2, min_samples_split=10, n_estimators=500;, score=0.746 total time= 1.1min\n",
      "[CV 3/5] END max_depth=2, min_samples_split=10, n_estimators=500;, score=0.745 total time= 1.1min\n",
      "[CV 4/5] END max_depth=2, min_samples_split=10, n_estimators=500;, score=0.744 total time= 1.1min\n",
      "[CV 5/5] END max_depth=2, min_samples_split=10, n_estimators=500;, score=0.742 total time= 1.1min\n",
      "[CV 1/5] END max_depth=5, min_samples_split=2, n_estimators=50;, score=0.773 total time=  12.6s\n",
      "[CV 2/5] END max_depth=5, min_samples_split=2, n_estimators=50;, score=0.775 total time=  12.4s\n",
      "[CV 3/5] END max_depth=5, min_samples_split=2, n_estimators=50;, score=0.772 total time=  12.3s\n",
      "[CV 4/5] END max_depth=5, min_samples_split=2, n_estimators=50;, score=0.778 total time=  12.3s\n",
      "[CV 5/5] END max_depth=5, min_samples_split=2, n_estimators=50;, score=0.777 total time=  12.4s\n",
      "[CV 1/5] END max_depth=5, min_samples_split=2, n_estimators=100;, score=0.774 total time=  24.6s\n",
      "[CV 2/5] END max_depth=5, min_samples_split=2, n_estimators=100;, score=0.773 total time=  24.7s\n",
      "[CV 3/5] END max_depth=5, min_samples_split=2, n_estimators=100;, score=0.776 total time=  24.7s\n",
      "[CV 4/5] END max_depth=5, min_samples_split=2, n_estimators=100;, score=0.777 total time=  24.6s\n",
      "[CV 5/5] END max_depth=5, min_samples_split=2, n_estimators=100;, score=0.774 total time=  24.7s\n",
      "[CV 1/5] END max_depth=5, min_samples_split=2, n_estimators=500;, score=0.775 total time= 2.0min\n",
      "[CV 2/5] END max_depth=5, min_samples_split=2, n_estimators=500;, score=0.776 total time= 2.0min\n",
      "[CV 3/5] END max_depth=5, min_samples_split=2, n_estimators=500;, score=0.777 total time= 2.0min\n",
      "[CV 4/5] END max_depth=5, min_samples_split=2, n_estimators=500;, score=0.778 total time= 2.1min\n",
      "[CV 5/5] END max_depth=5, min_samples_split=2, n_estimators=500;, score=0.778 total time= 2.0min\n",
      "[CV 1/5] END max_depth=5, min_samples_split=5, n_estimators=50;, score=0.770 total time=  12.4s\n",
      "[CV 2/5] END max_depth=5, min_samples_split=5, n_estimators=50;, score=0.774 total time=  12.5s\n",
      "[CV 3/5] END max_depth=5, min_samples_split=5, n_estimators=50;, score=0.777 total time=  12.4s\n",
      "[CV 4/5] END max_depth=5, min_samples_split=5, n_estimators=50;, score=0.779 total time=  12.4s\n",
      "[CV 5/5] END max_depth=5, min_samples_split=5, n_estimators=50;, score=0.777 total time=  12.4s\n",
      "[CV 1/5] END max_depth=5, min_samples_split=5, n_estimators=100;, score=0.773 total time=  24.6s\n",
      "[CV 2/5] END max_depth=5, min_samples_split=5, n_estimators=100;, score=0.780 total time=  24.4s\n",
      "[CV 3/5] END max_depth=5, min_samples_split=5, n_estimators=100;, score=0.778 total time=  24.3s\n",
      "[CV 4/5] END max_depth=5, min_samples_split=5, n_estimators=100;, score=0.766 total time=  24.6s\n",
      "[CV 5/5] END max_depth=5, min_samples_split=5, n_estimators=100;, score=0.775 total time=  24.6s\n",
      "[CV 1/5] END max_depth=5, min_samples_split=5, n_estimators=500;, score=0.775 total time= 2.0min\n",
      "[CV 2/5] END max_depth=5, min_samples_split=5, n_estimators=500;, score=0.776 total time= 2.0min\n",
      "[CV 3/5] END max_depth=5, min_samples_split=5, n_estimators=500;, score=0.778 total time= 2.0min\n",
      "[CV 4/5] END max_depth=5, min_samples_split=5, n_estimators=500;, score=0.778 total time= 2.0min\n",
      "[CV 5/5] END max_depth=5, min_samples_split=5, n_estimators=500;, score=0.773 total time= 2.0min\n",
      "[CV 1/5] END max_depth=5, min_samples_split=10, n_estimators=50;, score=0.774 total time=  12.0s\n",
      "[CV 2/5] END max_depth=5, min_samples_split=10, n_estimators=50;, score=0.774 total time=  12.0s\n",
      "[CV 3/5] END max_depth=5, min_samples_split=10, n_estimators=50;, score=0.776 total time=  11.9s\n",
      "[CV 4/5] END max_depth=5, min_samples_split=10, n_estimators=50;, score=0.775 total time=  12.0s\n",
      "[CV 5/5] END max_depth=5, min_samples_split=10, n_estimators=50;, score=0.774 total time=  11.9s\n",
      "[CV 1/5] END max_depth=5, min_samples_split=10, n_estimators=100;, score=0.770 total time=  23.6s\n",
      "[CV 2/5] END max_depth=5, min_samples_split=10, n_estimators=100;, score=0.773 total time=  23.6s\n",
      "[CV 3/5] END max_depth=5, min_samples_split=10, n_estimators=100;, score=0.777 total time=  23.6s\n",
      "[CV 4/5] END max_depth=5, min_samples_split=10, n_estimators=100;, score=0.774 total time=  23.6s\n"
     ]
    },
    {
     "name": "stdout",
     "output_type": "stream",
     "text": [
      "[CV 5/5] END max_depth=5, min_samples_split=10, n_estimators=100;, score=0.772 total time=  23.5s\n",
      "[CV 1/5] END max_depth=5, min_samples_split=10, n_estimators=500;, score=0.775 total time= 2.0min\n",
      "[CV 2/5] END max_depth=5, min_samples_split=10, n_estimators=500;, score=0.777 total time= 2.0min\n",
      "[CV 3/5] END max_depth=5, min_samples_split=10, n_estimators=500;, score=0.777 total time= 2.0min\n",
      "[CV 4/5] END max_depth=5, min_samples_split=10, n_estimators=500;, score=0.776 total time= 2.0min\n",
      "[CV 5/5] END max_depth=5, min_samples_split=10, n_estimators=500;, score=0.775 total time= 2.0min\n",
      "[CV 1/5] END max_depth=10, min_samples_split=2, n_estimators=50;, score=0.789 total time=  19.3s\n",
      "[CV 2/5] END max_depth=10, min_samples_split=2, n_estimators=50;, score=0.792 total time=  19.1s\n",
      "[CV 3/5] END max_depth=10, min_samples_split=2, n_estimators=50;, score=0.791 total time=  19.4s\n",
      "[CV 4/5] END max_depth=10, min_samples_split=2, n_estimators=50;, score=0.794 total time=  19.5s\n",
      "[CV 5/5] END max_depth=10, min_samples_split=2, n_estimators=50;, score=0.792 total time=  19.4s\n",
      "[CV 1/5] END max_depth=10, min_samples_split=2, n_estimators=100;, score=0.792 total time=  38.5s\n",
      "[CV 2/5] END max_depth=10, min_samples_split=2, n_estimators=100;, score=0.794 total time=  38.6s\n",
      "[CV 3/5] END max_depth=10, min_samples_split=2, n_estimators=100;, score=0.795 total time=  38.5s\n",
      "[CV 4/5] END max_depth=10, min_samples_split=2, n_estimators=100;, score=0.793 total time=  38.6s\n",
      "[CV 5/5] END max_depth=10, min_samples_split=2, n_estimators=100;, score=0.792 total time=  38.7s\n",
      "[CV 1/5] END max_depth=10, min_samples_split=2, n_estimators=500;, score=0.790 total time= 3.2min\n",
      "[CV 2/5] END max_depth=10, min_samples_split=2, n_estimators=500;, score=0.794 total time= 3.2min\n",
      "[CV 3/5] END max_depth=10, min_samples_split=2, n_estimators=500;, score=0.792 total time= 3.1min\n",
      "[CV 4/5] END max_depth=10, min_samples_split=2, n_estimators=500;, score=0.793 total time= 3.0min\n",
      "[CV 5/5] END max_depth=10, min_samples_split=2, n_estimators=500;, score=0.792 total time= 3.0min\n",
      "[CV 1/5] END max_depth=10, min_samples_split=5, n_estimators=50;, score=0.789 total time=  18.4s\n",
      "[CV 2/5] END max_depth=10, min_samples_split=5, n_estimators=50;, score=0.792 total time=  18.5s\n",
      "[CV 3/5] END max_depth=10, min_samples_split=5, n_estimators=50;, score=0.794 total time=  18.6s\n",
      "[CV 4/5] END max_depth=10, min_samples_split=5, n_estimators=50;, score=0.793 total time=  18.5s\n",
      "[CV 5/5] END max_depth=10, min_samples_split=5, n_estimators=50;, score=0.795 total time=  18.2s\n",
      "[CV 1/5] END max_depth=10, min_samples_split=5, n_estimators=100;, score=0.791 total time=  36.7s\n",
      "[CV 2/5] END max_depth=10, min_samples_split=5, n_estimators=100;, score=0.794 total time=  36.7s\n",
      "[CV 3/5] END max_depth=10, min_samples_split=5, n_estimators=100;, score=0.792 total time=  36.6s\n",
      "[CV 4/5] END max_depth=10, min_samples_split=5, n_estimators=100;, score=0.794 total time=  36.7s\n",
      "[CV 5/5] END max_depth=10, min_samples_split=5, n_estimators=100;, score=0.791 total time=  36.6s\n",
      "[CV 1/5] END max_depth=10, min_samples_split=5, n_estimators=500;, score=0.792 total time= 3.0min\n",
      "[CV 2/5] END max_depth=10, min_samples_split=5, n_estimators=500;, score=0.794 total time= 3.1min\n",
      "[CV 3/5] END max_depth=10, min_samples_split=5, n_estimators=500;, score=0.794 total time= 3.1min\n",
      "[CV 4/5] END max_depth=10, min_samples_split=5, n_estimators=500;, score=0.792 total time= 3.2min\n",
      "[CV 5/5] END max_depth=10, min_samples_split=5, n_estimators=500;, score=0.793 total time= 3.2min\n",
      "[CV 1/5] END max_depth=10, min_samples_split=10, n_estimators=50;, score=0.787 total time=  18.6s\n",
      "[CV 2/5] END max_depth=10, min_samples_split=10, n_estimators=50;, score=0.794 total time=  18.5s\n",
      "[CV 3/5] END max_depth=10, min_samples_split=10, n_estimators=50;, score=0.794 total time=  18.4s\n",
      "[CV 4/5] END max_depth=10, min_samples_split=10, n_estimators=50;, score=0.793 total time=  18.4s\n",
      "[CV 5/5] END max_depth=10, min_samples_split=10, n_estimators=50;, score=0.792 total time=  18.4s\n",
      "[CV 1/5] END max_depth=10, min_samples_split=10, n_estimators=100;, score=0.790 total time=  36.8s\n",
      "[CV 2/5] END max_depth=10, min_samples_split=10, n_estimators=100;, score=0.789 total time=  36.5s\n",
      "[CV 3/5] END max_depth=10, min_samples_split=10, n_estimators=100;, score=0.794 total time=  36.5s\n",
      "[CV 4/5] END max_depth=10, min_samples_split=10, n_estimators=100;, score=0.790 total time=  36.6s\n",
      "[CV 5/5] END max_depth=10, min_samples_split=10, n_estimators=100;, score=0.795 total time=  36.6s\n",
      "[CV 1/5] END max_depth=10, min_samples_split=10, n_estimators=500;, score=0.791 total time= 3.0min\n",
      "[CV 2/5] END max_depth=10, min_samples_split=10, n_estimators=500;, score=0.793 total time= 3.0min\n",
      "[CV 3/5] END max_depth=10, min_samples_split=10, n_estimators=500;, score=0.793 total time= 3.0min\n",
      "[CV 4/5] END max_depth=10, min_samples_split=10, n_estimators=500;, score=0.794 total time= 3.0min\n",
      "[CV 5/5] END max_depth=10, min_samples_split=10, n_estimators=500;, score=0.793 total time= 3.0min\n",
      "[CV 1/5] END max_depth=30, min_samples_split=2, n_estimators=50;, score=0.878 total time=  30.4s\n",
      "[CV 2/5] END max_depth=30, min_samples_split=2, n_estimators=50;, score=0.880 total time=  31.4s\n",
      "[CV 3/5] END max_depth=30, min_samples_split=2, n_estimators=50;, score=0.879 total time=  31.1s\n",
      "[CV 4/5] END max_depth=30, min_samples_split=2, n_estimators=50;, score=0.881 total time=  31.2s\n",
      "[CV 5/5] END max_depth=30, min_samples_split=2, n_estimators=50;, score=0.879 total time=  31.3s\n",
      "[CV 1/5] END max_depth=30, min_samples_split=2, n_estimators=100;, score=0.878 total time= 1.0min\n",
      "[CV 2/5] END max_depth=30, min_samples_split=2, n_estimators=100;, score=0.880 total time= 1.0min\n",
      "[CV 3/5] END max_depth=30, min_samples_split=2, n_estimators=100;, score=0.880 total time= 1.0min\n",
      "[CV 4/5] END max_depth=30, min_samples_split=2, n_estimators=100;, score=0.880 total time= 1.0min\n",
      "[CV 5/5] END max_depth=30, min_samples_split=2, n_estimators=100;, score=0.879 total time= 1.0min\n",
      "[CV 1/5] END max_depth=30, min_samples_split=2, n_estimators=500;, score=0.878 total time= 5.1min\n",
      "[CV 2/5] END max_depth=30, min_samples_split=2, n_estimators=500;, score=0.880 total time= 5.0min\n",
      "[CV 3/5] END max_depth=30, min_samples_split=2, n_estimators=500;, score=0.880 total time= 4.9min\n",
      "[CV 4/5] END max_depth=30, min_samples_split=2, n_estimators=500;, score=0.881 total time= 4.9min\n",
      "[CV 5/5] END max_depth=30, min_samples_split=2, n_estimators=500;, score=0.879 total time= 4.9min\n",
      "[CV 1/5] END max_depth=30, min_samples_split=5, n_estimators=50;, score=0.878 total time=  29.7s\n",
      "[CV 2/5] END max_depth=30, min_samples_split=5, n_estimators=50;, score=0.880 total time=  29.7s\n",
      "[CV 3/5] END max_depth=30, min_samples_split=5, n_estimators=50;, score=0.879 total time=  29.9s\n",
      "[CV 4/5] END max_depth=30, min_samples_split=5, n_estimators=50;, score=0.881 total time=  30.3s\n",
      "[CV 5/5] END max_depth=30, min_samples_split=5, n_estimators=50;, score=0.879 total time=  31.4s\n",
      "[CV 1/5] END max_depth=30, min_samples_split=5, n_estimators=100;, score=0.878 total time= 1.0min\n",
      "[CV 2/5] END max_depth=30, min_samples_split=5, n_estimators=100;, score=0.880 total time= 1.0min\n",
      "[CV 3/5] END max_depth=30, min_samples_split=5, n_estimators=100;, score=0.880 total time= 1.0min\n",
      "[CV 4/5] END max_depth=30, min_samples_split=5, n_estimators=100;, score=0.880 total time= 1.0min\n",
      "[CV 5/5] END max_depth=30, min_samples_split=5, n_estimators=100;, score=0.879 total time= 1.0min\n",
      "[CV 1/5] END max_depth=30, min_samples_split=5, n_estimators=500;, score=0.878 total time= 4.9min\n",
      "[CV 2/5] END max_depth=30, min_samples_split=5, n_estimators=500;, score=0.881 total time= 4.9min\n",
      "[CV 3/5] END max_depth=30, min_samples_split=5, n_estimators=500;, score=0.880 total time= 4.9min\n",
      "[CV 4/5] END max_depth=30, min_samples_split=5, n_estimators=500;, score=0.880 total time= 4.9min\n",
      "[CV 5/5] END max_depth=30, min_samples_split=5, n_estimators=500;, score=0.879 total time= 5.1min\n",
      "[CV 1/5] END max_depth=30, min_samples_split=10, n_estimators=50;, score=0.878 total time=  31.2s\n",
      "[CV 2/5] END max_depth=30, min_samples_split=10, n_estimators=50;, score=0.880 total time=  30.9s\n",
      "[CV 3/5] END max_depth=30, min_samples_split=10, n_estimators=50;, score=0.880 total time=  31.0s\n"
     ]
    },
    {
     "name": "stdout",
     "output_type": "stream",
     "text": [
      "[CV 4/5] END max_depth=30, min_samples_split=10, n_estimators=50;, score=0.881 total time=  30.9s\n",
      "[CV 5/5] END max_depth=30, min_samples_split=10, n_estimators=50;, score=0.879 total time=  31.5s\n",
      "[CV 1/5] END max_depth=30, min_samples_split=10, n_estimators=100;, score=0.878 total time= 1.0min\n",
      "[CV 2/5] END max_depth=30, min_samples_split=10, n_estimators=100;, score=0.880 total time= 1.0min\n",
      "[CV 3/5] END max_depth=30, min_samples_split=10, n_estimators=100;, score=0.879 total time= 1.0min\n",
      "[CV 4/5] END max_depth=30, min_samples_split=10, n_estimators=100;, score=0.881 total time= 1.0min\n",
      "[CV 5/5] END max_depth=30, min_samples_split=10, n_estimators=100;, score=0.879 total time= 1.0min\n",
      "[CV 1/5] END max_depth=30, min_samples_split=10, n_estimators=500;, score=0.878 total time= 4.9min\n",
      "[CV 2/5] END max_depth=30, min_samples_split=10, n_estimators=500;, score=0.880 total time= 4.9min\n",
      "[CV 3/5] END max_depth=30, min_samples_split=10, n_estimators=500;, score=0.879 total time= 4.9min\n",
      "[CV 4/5] END max_depth=30, min_samples_split=10, n_estimators=500;, score=0.881 total time=52.6min\n",
      "[CV 5/5] END max_depth=30, min_samples_split=10, n_estimators=500;, score=0.879 total time= 4.9min\n"
     ]
    },
    {
     "data": {
      "text/html": [
       "<style>#sk-container-id-6 {color: black;background-color: white;}#sk-container-id-6 pre{padding: 0;}#sk-container-id-6 div.sk-toggleable {background-color: white;}#sk-container-id-6 label.sk-toggleable__label {cursor: pointer;display: block;width: 100%;margin-bottom: 0;padding: 0.3em;box-sizing: border-box;text-align: center;}#sk-container-id-6 label.sk-toggleable__label-arrow:before {content: \"▸\";float: left;margin-right: 0.25em;color: #696969;}#sk-container-id-6 label.sk-toggleable__label-arrow:hover:before {color: black;}#sk-container-id-6 div.sk-estimator:hover label.sk-toggleable__label-arrow:before {color: black;}#sk-container-id-6 div.sk-toggleable__content {max-height: 0;max-width: 0;overflow: hidden;text-align: left;background-color: #f0f8ff;}#sk-container-id-6 div.sk-toggleable__content pre {margin: 0.2em;color: black;border-radius: 0.25em;background-color: #f0f8ff;}#sk-container-id-6 input.sk-toggleable__control:checked~div.sk-toggleable__content {max-height: 200px;max-width: 100%;overflow: auto;}#sk-container-id-6 input.sk-toggleable__control:checked~label.sk-toggleable__label-arrow:before {content: \"▾\";}#sk-container-id-6 div.sk-estimator input.sk-toggleable__control:checked~label.sk-toggleable__label {background-color: #d4ebff;}#sk-container-id-6 div.sk-label input.sk-toggleable__control:checked~label.sk-toggleable__label {background-color: #d4ebff;}#sk-container-id-6 input.sk-hidden--visually {border: 0;clip: rect(1px 1px 1px 1px);clip: rect(1px, 1px, 1px, 1px);height: 1px;margin: -1px;overflow: hidden;padding: 0;position: absolute;width: 1px;}#sk-container-id-6 div.sk-estimator {font-family: monospace;background-color: #f0f8ff;border: 1px dotted black;border-radius: 0.25em;box-sizing: border-box;margin-bottom: 0.5em;}#sk-container-id-6 div.sk-estimator:hover {background-color: #d4ebff;}#sk-container-id-6 div.sk-parallel-item::after {content: \"\";width: 100%;border-bottom: 1px solid gray;flex-grow: 1;}#sk-container-id-6 div.sk-label:hover label.sk-toggleable__label {background-color: #d4ebff;}#sk-container-id-6 div.sk-serial::before {content: \"\";position: absolute;border-left: 1px solid gray;box-sizing: border-box;top: 0;bottom: 0;left: 50%;z-index: 0;}#sk-container-id-6 div.sk-serial {display: flex;flex-direction: column;align-items: center;background-color: white;padding-right: 0.2em;padding-left: 0.2em;position: relative;}#sk-container-id-6 div.sk-item {position: relative;z-index: 1;}#sk-container-id-6 div.sk-parallel {display: flex;align-items: stretch;justify-content: center;background-color: white;position: relative;}#sk-container-id-6 div.sk-item::before, #sk-container-id-6 div.sk-parallel-item::before {content: \"\";position: absolute;border-left: 1px solid gray;box-sizing: border-box;top: 0;bottom: 0;left: 50%;z-index: -1;}#sk-container-id-6 div.sk-parallel-item {display: flex;flex-direction: column;z-index: 1;position: relative;background-color: white;}#sk-container-id-6 div.sk-parallel-item:first-child::after {align-self: flex-end;width: 50%;}#sk-container-id-6 div.sk-parallel-item:last-child::after {align-self: flex-start;width: 50%;}#sk-container-id-6 div.sk-parallel-item:only-child::after {width: 0;}#sk-container-id-6 div.sk-dashed-wrapped {border: 1px dashed gray;margin: 0 0.4em 0.5em 0.4em;box-sizing: border-box;padding-bottom: 0.4em;background-color: white;}#sk-container-id-6 div.sk-label label {font-family: monospace;font-weight: bold;display: inline-block;line-height: 1.2em;}#sk-container-id-6 div.sk-label-container {text-align: center;}#sk-container-id-6 div.sk-container {/* jupyter's `normalize.less` sets `[hidden] { display: none; }` but bootstrap.min.css set `[hidden] { display: none !important; }` so we also need the `!important` here to be able to override the default hidden behavior on the sphinx rendered scikit-learn.org. See: https://github.com/scikit-learn/scikit-learn/issues/21755 */display: inline-block !important;position: relative;}#sk-container-id-6 div.sk-text-repr-fallback {display: none;}</style><div id=\"sk-container-id-6\" class=\"sk-top-container\"><div class=\"sk-text-repr-fallback\"><pre>GridSearchCV(estimator=RandomForestClassifier(),\n",
       "             param_grid={&#x27;max_depth&#x27;: [2, 5, 10, 30],\n",
       "                         &#x27;min_samples_split&#x27;: [2, 5, 10],\n",
       "                         &#x27;n_estimators&#x27;: [50, 100, 500]},\n",
       "             verbose=3)</pre><b>In a Jupyter environment, please rerun this cell to show the HTML representation or trust the notebook. <br />On GitHub, the HTML representation is unable to render, please try loading this page with nbviewer.org.</b></div><div class=\"sk-container\" hidden><div class=\"sk-item sk-dashed-wrapped\"><div class=\"sk-label-container\"><div class=\"sk-label sk-toggleable\"><input class=\"sk-toggleable__control sk-hidden--visually\" id=\"sk-estimator-id-22\" type=\"checkbox\" ><label for=\"sk-estimator-id-22\" class=\"sk-toggleable__label sk-toggleable__label-arrow\">GridSearchCV</label><div class=\"sk-toggleable__content\"><pre>GridSearchCV(estimator=RandomForestClassifier(),\n",
       "             param_grid={&#x27;max_depth&#x27;: [2, 5, 10, 30],\n",
       "                         &#x27;min_samples_split&#x27;: [2, 5, 10],\n",
       "                         &#x27;n_estimators&#x27;: [50, 100, 500]},\n",
       "             verbose=3)</pre></div></div></div><div class=\"sk-parallel\"><div class=\"sk-parallel-item\"><div class=\"sk-item\"><div class=\"sk-label-container\"><div class=\"sk-label sk-toggleable\"><input class=\"sk-toggleable__control sk-hidden--visually\" id=\"sk-estimator-id-23\" type=\"checkbox\" ><label for=\"sk-estimator-id-23\" class=\"sk-toggleable__label sk-toggleable__label-arrow\">estimator: RandomForestClassifier</label><div class=\"sk-toggleable__content\"><pre>RandomForestClassifier()</pre></div></div></div><div class=\"sk-serial\"><div class=\"sk-item\"><div class=\"sk-estimator sk-toggleable\"><input class=\"sk-toggleable__control sk-hidden--visually\" id=\"sk-estimator-id-24\" type=\"checkbox\" ><label for=\"sk-estimator-id-24\" class=\"sk-toggleable__label sk-toggleable__label-arrow\">RandomForestClassifier</label><div class=\"sk-toggleable__content\"><pre>RandomForestClassifier()</pre></div></div></div></div></div></div></div></div></div></div>"
      ],
      "text/plain": [
       "GridSearchCV(estimator=RandomForestClassifier(),\n",
       "             param_grid={'max_depth': [2, 5, 10, 30],\n",
       "                         'min_samples_split': [2, 5, 10],\n",
       "                         'n_estimators': [50, 100, 500]},\n",
       "             verbose=3)"
      ]
     },
     "execution_count": 107,
     "metadata": {},
     "output_type": "execute_result"
    }
   ],
   "source": [
    "rfc = RandomForestClassifier()\n",
    "parameters = {'n_estimators': [50, 100, 500], 'max_depth': [2, 5, 10, 30], 'min_samples_split': [2, 5, 10]}\n",
    "clf = GridSearchCV(rfc, parameters, verbose=3)\n",
    "clf.fit(X_train, y_train)"
   ]
  },
  {
   "cell_type": "code",
   "execution_count": 108,
   "id": "1d265a22",
   "metadata": {},
   "outputs": [
    {
     "name": "stdout",
     "output_type": "stream",
     "text": [
      "{'max_depth': 30, 'min_samples_split': 2, 'n_estimators': 500}\n"
     ]
    }
   ],
   "source": [
    "print(clf.best_params_)"
   ]
  },
  {
   "cell_type": "code",
   "execution_count": 109,
   "id": "b1f709e0",
   "metadata": {
    "scrolled": true
   },
   "outputs": [
    {
     "name": "stderr",
     "output_type": "stream",
     "text": [
      "/Library/Frameworks/Python.framework/Versions/3.10/lib/python3.10/site-packages/sklearn/svm/_base.py:1225: ConvergenceWarning: Liblinear failed to converge, increase the number of iterations.\n",
      "  warnings.warn(\n"
     ]
    },
    {
     "data": {
      "text/html": [
       "<style>#sk-container-id-7 {color: black;background-color: white;}#sk-container-id-7 pre{padding: 0;}#sk-container-id-7 div.sk-toggleable {background-color: white;}#sk-container-id-7 label.sk-toggleable__label {cursor: pointer;display: block;width: 100%;margin-bottom: 0;padding: 0.3em;box-sizing: border-box;text-align: center;}#sk-container-id-7 label.sk-toggleable__label-arrow:before {content: \"▸\";float: left;margin-right: 0.25em;color: #696969;}#sk-container-id-7 label.sk-toggleable__label-arrow:hover:before {color: black;}#sk-container-id-7 div.sk-estimator:hover label.sk-toggleable__label-arrow:before {color: black;}#sk-container-id-7 div.sk-toggleable__content {max-height: 0;max-width: 0;overflow: hidden;text-align: left;background-color: #f0f8ff;}#sk-container-id-7 div.sk-toggleable__content pre {margin: 0.2em;color: black;border-radius: 0.25em;background-color: #f0f8ff;}#sk-container-id-7 input.sk-toggleable__control:checked~div.sk-toggleable__content {max-height: 200px;max-width: 100%;overflow: auto;}#sk-container-id-7 input.sk-toggleable__control:checked~label.sk-toggleable__label-arrow:before {content: \"▾\";}#sk-container-id-7 div.sk-estimator input.sk-toggleable__control:checked~label.sk-toggleable__label {background-color: #d4ebff;}#sk-container-id-7 div.sk-label input.sk-toggleable__control:checked~label.sk-toggleable__label {background-color: #d4ebff;}#sk-container-id-7 input.sk-hidden--visually {border: 0;clip: rect(1px 1px 1px 1px);clip: rect(1px, 1px, 1px, 1px);height: 1px;margin: -1px;overflow: hidden;padding: 0;position: absolute;width: 1px;}#sk-container-id-7 div.sk-estimator {font-family: monospace;background-color: #f0f8ff;border: 1px dotted black;border-radius: 0.25em;box-sizing: border-box;margin-bottom: 0.5em;}#sk-container-id-7 div.sk-estimator:hover {background-color: #d4ebff;}#sk-container-id-7 div.sk-parallel-item::after {content: \"\";width: 100%;border-bottom: 1px solid gray;flex-grow: 1;}#sk-container-id-7 div.sk-label:hover label.sk-toggleable__label {background-color: #d4ebff;}#sk-container-id-7 div.sk-serial::before {content: \"\";position: absolute;border-left: 1px solid gray;box-sizing: border-box;top: 0;bottom: 0;left: 50%;z-index: 0;}#sk-container-id-7 div.sk-serial {display: flex;flex-direction: column;align-items: center;background-color: white;padding-right: 0.2em;padding-left: 0.2em;position: relative;}#sk-container-id-7 div.sk-item {position: relative;z-index: 1;}#sk-container-id-7 div.sk-parallel {display: flex;align-items: stretch;justify-content: center;background-color: white;position: relative;}#sk-container-id-7 div.sk-item::before, #sk-container-id-7 div.sk-parallel-item::before {content: \"\";position: absolute;border-left: 1px solid gray;box-sizing: border-box;top: 0;bottom: 0;left: 50%;z-index: -1;}#sk-container-id-7 div.sk-parallel-item {display: flex;flex-direction: column;z-index: 1;position: relative;background-color: white;}#sk-container-id-7 div.sk-parallel-item:first-child::after {align-self: flex-end;width: 50%;}#sk-container-id-7 div.sk-parallel-item:last-child::after {align-self: flex-start;width: 50%;}#sk-container-id-7 div.sk-parallel-item:only-child::after {width: 0;}#sk-container-id-7 div.sk-dashed-wrapped {border: 1px dashed gray;margin: 0 0.4em 0.5em 0.4em;box-sizing: border-box;padding-bottom: 0.4em;background-color: white;}#sk-container-id-7 div.sk-label label {font-family: monospace;font-weight: bold;display: inline-block;line-height: 1.2em;}#sk-container-id-7 div.sk-label-container {text-align: center;}#sk-container-id-7 div.sk-container {/* jupyter's `normalize.less` sets `[hidden] { display: none; }` but bootstrap.min.css set `[hidden] { display: none !important; }` so we also need the `!important` here to be able to override the default hidden behavior on the sphinx rendered scikit-learn.org. See: https://github.com/scikit-learn/scikit-learn/issues/21755 */display: inline-block !important;position: relative;}#sk-container-id-7 div.sk-text-repr-fallback {display: none;}</style><div id=\"sk-container-id-7\" class=\"sk-top-container\"><div class=\"sk-text-repr-fallback\"><pre>Pipeline(steps=[(&#x27;feature_selection&#x27;,\n",
       "                 SelectFromModel(estimator=LinearSVC(max_iter=5000))),\n",
       "                (&#x27;classification&#x27;,\n",
       "                 RandomForestClassifier(max_depth=30, n_estimators=500))])</pre><b>In a Jupyter environment, please rerun this cell to show the HTML representation or trust the notebook. <br />On GitHub, the HTML representation is unable to render, please try loading this page with nbviewer.org.</b></div><div class=\"sk-container\" hidden><div class=\"sk-item sk-dashed-wrapped\"><div class=\"sk-label-container\"><div class=\"sk-label sk-toggleable\"><input class=\"sk-toggleable__control sk-hidden--visually\" id=\"sk-estimator-id-25\" type=\"checkbox\" ><label for=\"sk-estimator-id-25\" class=\"sk-toggleable__label sk-toggleable__label-arrow\">Pipeline</label><div class=\"sk-toggleable__content\"><pre>Pipeline(steps=[(&#x27;feature_selection&#x27;,\n",
       "                 SelectFromModel(estimator=LinearSVC(max_iter=5000))),\n",
       "                (&#x27;classification&#x27;,\n",
       "                 RandomForestClassifier(max_depth=30, n_estimators=500))])</pre></div></div></div><div class=\"sk-serial\"><div class=\"sk-item sk-dashed-wrapped\"><div class=\"sk-label-container\"><div class=\"sk-label sk-toggleable\"><input class=\"sk-toggleable__control sk-hidden--visually\" id=\"sk-estimator-id-26\" type=\"checkbox\" ><label for=\"sk-estimator-id-26\" class=\"sk-toggleable__label sk-toggleable__label-arrow\">feature_selection: SelectFromModel</label><div class=\"sk-toggleable__content\"><pre>SelectFromModel(estimator=LinearSVC(max_iter=5000))</pre></div></div></div><div class=\"sk-parallel\"><div class=\"sk-parallel-item\"><div class=\"sk-item\"><div class=\"sk-label-container\"><div class=\"sk-label sk-toggleable\"><input class=\"sk-toggleable__control sk-hidden--visually\" id=\"sk-estimator-id-27\" type=\"checkbox\" ><label for=\"sk-estimator-id-27\" class=\"sk-toggleable__label sk-toggleable__label-arrow\">estimator: LinearSVC</label><div class=\"sk-toggleable__content\"><pre>LinearSVC(max_iter=5000)</pre></div></div></div><div class=\"sk-serial\"><div class=\"sk-item\"><div class=\"sk-estimator sk-toggleable\"><input class=\"sk-toggleable__control sk-hidden--visually\" id=\"sk-estimator-id-28\" type=\"checkbox\" ><label for=\"sk-estimator-id-28\" class=\"sk-toggleable__label sk-toggleable__label-arrow\">LinearSVC</label><div class=\"sk-toggleable__content\"><pre>LinearSVC(max_iter=5000)</pre></div></div></div></div></div></div></div></div><div class=\"sk-item\"><div class=\"sk-estimator sk-toggleable\"><input class=\"sk-toggleable__control sk-hidden--visually\" id=\"sk-estimator-id-29\" type=\"checkbox\" ><label for=\"sk-estimator-id-29\" class=\"sk-toggleable__label sk-toggleable__label-arrow\">RandomForestClassifier</label><div class=\"sk-toggleable__content\"><pre>RandomForestClassifier(max_depth=30, n_estimators=500)</pre></div></div></div></div></div></div></div>"
      ],
      "text/plain": [
       "Pipeline(steps=[('feature_selection',\n",
       "                 SelectFromModel(estimator=LinearSVC(max_iter=5000))),\n",
       "                ('classification',\n",
       "                 RandomForestClassifier(max_depth=30, n_estimators=500))])"
      ]
     },
     "execution_count": 109,
     "metadata": {},
     "output_type": "execute_result"
    }
   ],
   "source": [
    "\n",
    "pip = Pipeline([\n",
    "  ('feature_selection', SelectFromModel(LinearSVC(max_iter = 5000))),\n",
    "  ('classification', RandomForestClassifier(**clf.best_params_))\n",
    "])\n",
    "pip.fit(X_train, y_train)"
   ]
  },
  {
   "cell_type": "code",
   "execution_count": 110,
   "id": "19de3414",
   "metadata": {},
   "outputs": [
    {
     "name": "stdout",
     "output_type": "stream",
     "text": [
      "              precision    recall  f1-score   support\n",
      "\n",
      "           0       0.80      0.77      0.78    460036\n",
      "           1       0.78      0.80      0.79    459476\n",
      "\n",
      "    accuracy                           0.79    919512\n",
      "   macro avg       0.79      0.79      0.79    919512\n",
      "weighted avg       0.79      0.79      0.79    919512\n",
      "\n",
      "              precision    recall  f1-score   support\n",
      "\n",
      "           0       0.80      0.77      0.78    226167\n",
      "           1       0.78      0.80      0.79    226727\n",
      "\n",
      "    accuracy                           0.79    452894\n",
      "   macro avg       0.79      0.79      0.79    452894\n",
      "weighted avg       0.79      0.79      0.79    452894\n",
      "\n",
      "0.4993817537878621\n"
     ]
    }
   ],
   "source": [
    "pred_train = pip.predict(X_train)\n",
    "pred_test = pip.predict(X_test)\n",
    "print(classification_report(y_train, pred_train))\n",
    "print(classification_report(y_test, pred_test))\n",
    "print(1-np.mean(y_test))"
   ]
  },
  {
   "cell_type": "code",
   "execution_count": 113,
   "id": "09428c0e",
   "metadata": {},
   "outputs": [],
   "source": [
    "reg = RandomForestClassifier(**clf.best_params_)\n",
    "reg.fit(X_train, y_train)\n",
    "pred_train = reg.predict(X_train)\n",
    "pred_test = reg.predict(X_test)\n"
   ]
  },
  {
   "cell_type": "code",
   "execution_count": 112,
   "id": "ff13bed4",
   "metadata": {
    "scrolled": true
   },
   "outputs": [
    {
     "name": "stdout",
     "output_type": "stream",
     "text": [
      "              precision    recall  f1-score   support\n",
      "\n",
      "           0       0.73      0.83      0.77    460036\n",
      "           1       0.80      0.69      0.74    459476\n",
      "\n",
      "    accuracy                           0.76    919512\n",
      "   macro avg       0.76      0.76      0.76    919512\n",
      "weighted avg       0.76      0.76      0.76    919512\n",
      "\n",
      "              precision    recall  f1-score   support\n",
      "\n",
      "           0       0.73      0.83      0.77    226167\n",
      "           1       0.80      0.69      0.74    226727\n",
      "\n",
      "    accuracy                           0.76    452894\n",
      "   macro avg       0.76      0.76      0.76    452894\n",
      "weighted avg       0.76      0.76      0.76    452894\n",
      "\n",
      "0.4993817537878621\n"
     ]
    }
   ],
   "source": [
    "print(classification_report(y_train, pred_train))\n",
    "print(classification_report(y_test, pred_test))\n",
    "print(1-np.mean(y_test))"
   ]
  },
  {
   "cell_type": "markdown",
   "id": "fe41ca73",
   "metadata": {},
   "source": [
    "# TODO:\n",
    "# split train and test before oversample for more accurate test"
   ]
  },
  {
   "cell_type": "code",
   "execution_count": null,
   "id": "d33d9d5c",
   "metadata": {},
   "outputs": [],
   "source": []
  }
 ],
 "metadata": {
  "kernelspec": {
   "display_name": "Python 3 (ipykernel)",
   "language": "python",
   "name": "python3"
  },
  "language_info": {
   "codemirror_mode": {
    "name": "ipython",
    "version": 3
   },
   "file_extension": ".py",
   "mimetype": "text/x-python",
   "name": "python",
   "nbconvert_exporter": "python",
   "pygments_lexer": "ipython3",
   "version": "3.10.7"
  }
 },
 "nbformat": 4,
 "nbformat_minor": 5
}

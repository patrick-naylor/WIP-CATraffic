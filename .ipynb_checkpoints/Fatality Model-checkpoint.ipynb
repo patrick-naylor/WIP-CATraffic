{
 "cells": [
  {
   "cell_type": "code",
   "execution_count": 43,
   "id": "0950a011",
   "metadata": {},
   "outputs": [],
   "source": [
    "import psycopg2\n",
    "import pandas as pd\n",
    "import numpy as np"
   ]
  },
  {
   "cell_type": "markdown",
   "id": "1e74b14d",
   "metadata": {},
   "source": [
    "conn = psycopg2.connect(host='localhost', database='traffic', user='patricknaylor', password='')\n",
    "cur = conn.cursor()\n",
    "\n",
    "cur.execute('SELECT latitude FROM collisions WHERE latitude IS NOT NULL AND longitude IS NOT NULL')\n",
    "lat_arr = np.array(cur.fetchall())\n",
    "lat_arr = np.concatenate(lat_arr)\n",
    "cur.execute('SELECT longitude FROM collisions WHERE longitude IS NOT NULL AND latitude IS NOT NULL')\n",
    "lon_arr = np.array(cur.fetchall())\n",
    "lon_arr = np.concatenate(lon_arr)\n",
    "\n",
    "column_names = ['latitude', 'longitude']\n",
    "data = np.zeros((np.shape(lat_arr)[0], 2))\n",
    "data[:, 0] = lat_arr\n",
    "data[:, 1] = lon_arr\n",
    "pos_df = pd.DataFrame(data = data, columns=column_names)\n",
    "pos_df.to_csv('/Users/patricknaylor/desktop/CA_traffic/Data/position_df.csv')\n",
    "\n",
    "cur.execute('SELECT killed_victims FROM collisions WHERE latitude IS NOT NULL AND longitude IS NOT NULL AND killed_victims IS NOT NULL')\n",
    "kill_arr = np.array(cur.fetchall())\n",
    "kill_arr = np.concatenate(kill_arr)\n",
    "np.savetxt('/Users/patricknaylor/desktop/CA_traffic/Data/killed_res.csv', kill_arr, delimiter=',')"
   ]
  },
  {
   "cell_type": "code",
   "execution_count": null,
   "id": "6af97a5f",
   "metadata": {},
   "outputs": [],
   "source": []
  }
 ],
 "metadata": {
  "kernelspec": {
   "display_name": "Python 3 (ipykernel)",
   "language": "python",
   "name": "python3"
  },
  "language_info": {
   "codemirror_mode": {
    "name": "ipython",
    "version": 3
   },
   "file_extension": ".py",
   "mimetype": "text/x-python",
   "name": "python",
   "nbconvert_exporter": "python",
   "pygments_lexer": "ipython3",
   "version": "3.10.7"
  }
 },
 "nbformat": 4,
 "nbformat_minor": 5
}

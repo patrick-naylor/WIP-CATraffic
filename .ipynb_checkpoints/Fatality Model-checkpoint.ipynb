{
 "cells": [
  {
   "cell_type": "code",
   "execution_count": 2,
   "id": "0950a011",
   "metadata": {},
   "outputs": [],
   "source": [
    "import pandas as pd\n",
    "import numpy as np\n",
    "from requests import get\n",
    "from pandas import json_normalize\n",
    "import time"
   ]
  },
  {
   "cell_type": "code",
   "execution_count": 3,
   "id": "6ea5280a",
   "metadata": {},
   "outputs": [],
   "source": [
    "modeling_data = pd.read_csv('/Users/patricknaylor/Desktop/CA_traffic/Data/selected_columns.csv')"
   ]
  },
  {
   "cell_type": "code",
   "execution_count": 4,
   "id": "c82d02ed",
   "metadata": {},
   "outputs": [
    {
     "name": "stdout",
     "output_type": "stream",
     "text": [
      "        latitude  longitude statewide_vehicle_type_at_fault  alcohol_involved  \\\n",
      "0       36.32039 -119.80822           pickup or panel truck                 1   \n",
      "1       37.89750 -122.51594           pickup or panel truck                 1   \n",
      "2       38.04418 -122.53464                   passenger car                 1   \n",
      "3       33.19041 -117.12211                   passenger car                 1   \n",
      "4       37.57203 -122.31572                   passenger car                 1   \n",
      "...          ...        ...                             ...               ...   \n",
      "692547  34.14035 -118.01589                   passenger car                 0   \n",
      "692548  34.00996 -117.82375                   passenger car                 0   \n",
      "692549  38.35613 -121.97632                   passenger car                 0   \n",
      "692550  33.76579 -117.95448                   passenger car                 1   \n",
      "692551  39.21427 -121.06041                   passenger car                 0   \n",
      "\n",
      "        truck_collision  motorcycle_collision  bicycle_collision  \\\n",
      "0                     0                     0                  0   \n",
      "1                     0                     0                  0   \n",
      "2                     1                     0                  0   \n",
      "3                     0                     0                  0   \n",
      "4                     0                     0                  0   \n",
      "...                 ...                   ...                ...   \n",
      "692547                0                     0                  0   \n",
      "692548                0                     0                  0   \n",
      "692549                0                     0                  0   \n",
      "692550                0                     1                  0   \n",
      "692551                0                     0                  0   \n",
      "\n",
      "        pedestrian_collision                    lighting road_surface  \\\n",
      "0                          0                    daylight          dry   \n",
      "1                          0                    daylight          dry   \n",
      "2                          0                    daylight          dry   \n",
      "3                          0                    daylight          dry   \n",
      "4                          0                    daylight          dry   \n",
      "...                      ...                         ...          ...   \n",
      "692547                     0                    daylight          dry   \n",
      "692548                     0                    daylight          dry   \n",
      "692549                     0                    daylight          dry   \n",
      "692550                     0  dark with no street lights          dry   \n",
      "692551                     0                    daylight          dry   \n",
      "\n",
      "            hit_and_run  party_count  injured_victims  killed_victims  \\\n",
      "0           misdemeanor            2                1               0   \n",
      "1       not hit and run            1                0               0   \n",
      "2       not hit and run            2                0               0   \n",
      "3       not hit and run            2                0               0   \n",
      "4       not hit and run            2                1               0   \n",
      "...                 ...          ...              ...             ...   \n",
      "692547  not hit and run            2                0               0   \n",
      "692548  not hit and run            2                0               0   \n",
      "692549  not hit and run            4                1               0   \n",
      "692550  not hit and run            2                0               0   \n",
      "692551  not hit and run            1                1               0   \n",
      "\n",
      "       location_type county_location        population  \\\n",
      "0            highway           kings    unincorporated   \n",
      "1            highway           marin    unincorporated   \n",
      "2            highway           marin    unincorporated   \n",
      "3            highway       san diego    unincorporated   \n",
      "4            highway       san mateo   50000 to 100000   \n",
      "...              ...             ...               ...   \n",
      "692547          ramp     los angeles    25000 to 50000   \n",
      "692548       highway     los angeles   50000 to 100000   \n",
      "692549       highway          solano   50000 to 100000   \n",
      "692550       highway          orange  100000 to 250000   \n",
      "692551       highway          nevada    unincorporated   \n",
      "\n",
      "        county_location_population  \n",
      "0                           152982  \n",
      "1                           252409  \n",
      "2                           252409  \n",
      "3                          3095313  \n",
      "4                           718451  \n",
      "...                            ...  \n",
      "692547                     9818605  \n",
      "692548                     9818605  \n",
      "692549                      413344  \n",
      "692550                     3010232  \n",
      "692551                       98764  \n",
      "\n",
      "[692552 rows x 18 columns]\n"
     ]
    }
   ],
   "source": [
    "print(modeling_data)"
   ]
  },
  {
   "cell_type": "code",
   "execution_count": null,
   "id": "d9246311",
   "metadata": {},
   "outputs": [],
   "source": []
  }
 ],
 "metadata": {
  "kernelspec": {
   "display_name": "Python 3 (ipykernel)",
   "language": "python",
   "name": "python3"
  },
  "language_info": {
   "codemirror_mode": {
    "name": "ipython",
    "version": 3
   },
   "file_extension": ".py",
   "mimetype": "text/x-python",
   "name": "python",
   "nbconvert_exporter": "python",
   "pygments_lexer": "ipython3",
   "version": "3.10.7"
  }
 },
 "nbformat": 4,
 "nbformat_minor": 5
}
